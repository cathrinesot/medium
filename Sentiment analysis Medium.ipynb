{
 "cells": [
  {
   "cell_type": "code",
   "execution_count": 1,
   "metadata": {
    "collapsed": true
   },
   "outputs": [],
   "source": [
    "import pandas as pd\n",
    "%matplotlib inline\n",
    "from dirtyclean import clean\n",
    "import numpy as np\n",
    "import glob"
   ]
  },
  {
   "cell_type": "markdown",
   "metadata": {},
   "source": [
    "# Reading in the EmoLex\n",
    "\n",
    "I'm just copying this from the other notebook! It's the one at the very bottom that does a lot of reshaping. I think it's the easiest to work with."
   ]
  },
  {
   "cell_type": "code",
   "execution_count": 2,
   "metadata": {},
   "outputs": [
    {
     "data": {
      "text/html": [
       "<div>\n",
       "<style>\n",
       "    .dataframe thead tr:only-child th {\n",
       "        text-align: right;\n",
       "    }\n",
       "\n",
       "    .dataframe thead th {\n",
       "        text-align: left;\n",
       "    }\n",
       "\n",
       "    .dataframe tbody tr th {\n",
       "        vertical-align: top;\n",
       "    }\n",
       "</style>\n",
       "<table border=\"1\" class=\"dataframe\">\n",
       "  <thead>\n",
       "    <tr style=\"text-align: right;\">\n",
       "      <th>emotion</th>\n",
       "      <th>word</th>\n",
       "      <th>anger</th>\n",
       "      <th>anticipation</th>\n",
       "      <th>disgust</th>\n",
       "      <th>fear</th>\n",
       "      <th>joy</th>\n",
       "      <th>negative</th>\n",
       "      <th>positive</th>\n",
       "      <th>sadness</th>\n",
       "      <th>surprise</th>\n",
       "      <th>trust</th>\n",
       "    </tr>\n",
       "  </thead>\n",
       "  <tbody>\n",
       "    <tr>\n",
       "      <th>0</th>\n",
       "      <td>aback</td>\n",
       "      <td>0</td>\n",
       "      <td>0</td>\n",
       "      <td>0</td>\n",
       "      <td>0</td>\n",
       "      <td>0</td>\n",
       "      <td>0</td>\n",
       "      <td>0</td>\n",
       "      <td>0</td>\n",
       "      <td>0</td>\n",
       "      <td>0</td>\n",
       "    </tr>\n",
       "    <tr>\n",
       "      <th>1</th>\n",
       "      <td>abacus</td>\n",
       "      <td>0</td>\n",
       "      <td>0</td>\n",
       "      <td>0</td>\n",
       "      <td>0</td>\n",
       "      <td>0</td>\n",
       "      <td>0</td>\n",
       "      <td>0</td>\n",
       "      <td>0</td>\n",
       "      <td>0</td>\n",
       "      <td>1</td>\n",
       "    </tr>\n",
       "    <tr>\n",
       "      <th>2</th>\n",
       "      <td>abandon</td>\n",
       "      <td>0</td>\n",
       "      <td>0</td>\n",
       "      <td>0</td>\n",
       "      <td>1</td>\n",
       "      <td>0</td>\n",
       "      <td>1</td>\n",
       "      <td>0</td>\n",
       "      <td>1</td>\n",
       "      <td>0</td>\n",
       "      <td>0</td>\n",
       "    </tr>\n",
       "    <tr>\n",
       "      <th>3</th>\n",
       "      <td>abandoned</td>\n",
       "      <td>1</td>\n",
       "      <td>0</td>\n",
       "      <td>0</td>\n",
       "      <td>1</td>\n",
       "      <td>0</td>\n",
       "      <td>1</td>\n",
       "      <td>0</td>\n",
       "      <td>1</td>\n",
       "      <td>0</td>\n",
       "      <td>0</td>\n",
       "    </tr>\n",
       "    <tr>\n",
       "      <th>4</th>\n",
       "      <td>abandonment</td>\n",
       "      <td>1</td>\n",
       "      <td>0</td>\n",
       "      <td>0</td>\n",
       "      <td>1</td>\n",
       "      <td>0</td>\n",
       "      <td>1</td>\n",
       "      <td>0</td>\n",
       "      <td>1</td>\n",
       "      <td>1</td>\n",
       "      <td>0</td>\n",
       "    </tr>\n",
       "  </tbody>\n",
       "</table>\n",
       "</div>"
      ],
      "text/plain": [
       "emotion         word  anger  anticipation  disgust  fear  joy  negative  \\\n",
       "0              aback      0             0        0     0    0         0   \n",
       "1             abacus      0             0        0     0    0         0   \n",
       "2            abandon      0             0        0     1    0         1   \n",
       "3          abandoned      1             0        0     1    0         1   \n",
       "4        abandonment      1             0        0     1    0         1   \n",
       "\n",
       "emotion  positive  sadness  surprise  trust  \n",
       "0               0        0         0      0  \n",
       "1               0        0         0      1  \n",
       "2               0        1         0      0  \n",
       "3               0        1         0      0  \n",
       "4               0        1         1      0  "
      ]
     },
     "execution_count": 2,
     "metadata": {},
     "output_type": "execute_result"
    }
   ],
   "source": [
    "filepath = \"NRC-Emotion-Lexicon-v0.92/NRC-emotion-lexicon-wordlevel-alphabetized-v0.92.txt\"\n",
    "emolex_df = pd.read_csv(filepath,  names=[\"word\", \"emotion\", \"association\"], skiprows=45, sep='\\t')\n",
    "emolex_df = emolex_df.pivot(index='word', columns='emotion', values='association').reset_index()\n",
    "emolex_df.head()"
   ]
  },
  {
   "cell_type": "markdown",
   "metadata": {},
   "source": [
    "## Reading in Medium articles\n",
    "\n"
   ]
  },
  {
   "cell_type": "code",
   "execution_count": 3,
   "metadata": {},
   "outputs": [],
   "source": [
    "df = pd.read_csv(\"top_10.csv\")"
   ]
  },
  {
   "cell_type": "code",
   "execution_count": 4,
   "metadata": {},
   "outputs": [
    {
     "data": {
      "text/html": [
       "<div>\n",
       "<style>\n",
       "    .dataframe thead tr:only-child th {\n",
       "        text-align: right;\n",
       "    }\n",
       "\n",
       "    .dataframe thead th {\n",
       "        text-align: left;\n",
       "    }\n",
       "\n",
       "    .dataframe tbody tr th {\n",
       "        vertical-align: top;\n",
       "    }\n",
       "</style>\n",
       "<table border=\"1\" class=\"dataframe\">\n",
       "  <thead>\n",
       "    <tr style=\"text-align: right;\">\n",
       "      <th></th>\n",
       "      <th>author</th>\n",
       "      <th>body</th>\n",
       "      <th>filename</th>\n",
       "      <th>followers</th>\n",
       "      <th>description</th>\n",
       "      <th>claps</th>\n",
       "      <th>people_clapped</th>\n",
       "      <th>min_read</th>\n",
       "      <th>high_text</th>\n",
       "      <th>author_date</th>\n",
       "      <th>date</th>\n",
       "      <th>images</th>\n",
       "    </tr>\n",
       "  </thead>\n",
       "  <tbody>\n",
       "    <tr>\n",
       "      <th>0</th>\n",
       "      <td>Josh Spector</td>\n",
       "      <td>You’re busy, so I’ll keep this quick.\\nFollowi...</td>\n",
       "      <td>3.The Two Minutes It Takes To Read This Will I...</td>\n",
       "      <td>27000</td>\n",
       "      <td>Writer. Strategist. For The Interested newslet...</td>\n",
       "      <td>25191</td>\n",
       "      <td>17953</td>\n",
       "      <td>2</td>\n",
       "      <td>Delete the word “that.”</td>\n",
       "      <td>Apr 2017</td>\n",
       "      <td>Jul 22, 2016</td>\n",
       "      <td>Yes</td>\n",
       "    </tr>\n",
       "    <tr>\n",
       "      <th>1</th>\n",
       "      <td>Trent Lapinski</td>\n",
       "      <td>rump Is What Happens When You Nominate A Cheat...</td>\n",
       "      <td>8.Dear Democrats, Read This If You Do Not Unde...</td>\n",
       "      <td>13400</td>\n",
       "      <td>Tech Entrepreneur. Journalist. Technologist. C...</td>\n",
       "      <td>10885</td>\n",
       "      <td>9981</td>\n",
       "      <td>5</td>\n",
       "      <td>This is the problem with America today, the te...</td>\n",
       "      <td>NaN</td>\n",
       "      <td>Nov 9, 2016</td>\n",
       "      <td>Yes</td>\n",
       "    </tr>\n",
       "    <tr>\n",
       "      <th>2</th>\n",
       "      <td>Shem Magnezi</td>\n",
       "      <td>That’s right, I said it.\\n\\nFuck your startup ...</td>\n",
       "      <td>2.Fuck You Startup World</td>\n",
       "      <td>6200</td>\n",
       "      <td>Doing what I love</td>\n",
       "      <td>22661</td>\n",
       "      <td>17316</td>\n",
       "      <td>5</td>\n",
       "      <td>You should celebrate any day that you don’t ha...</td>\n",
       "      <td>NaN</td>\n",
       "      <td>Oct 11, 2016</td>\n",
       "      <td>Yes</td>\n",
       "    </tr>\n",
       "    <tr>\n",
       "      <th>3</th>\n",
       "      <td>Tobias Stone</td>\n",
       "      <td>It seems we’re entering another of those stupi...</td>\n",
       "      <td>1.History tells us what may happen next with B...</td>\n",
       "      <td>27000</td>\n",
       "      <td>Writing about politics, history, and society. ...</td>\n",
       "      <td>18983</td>\n",
       "      <td>17092</td>\n",
       "      <td>7</td>\n",
       "      <td>We need to find a way to bridge from our close...</td>\n",
       "      <td>Aug 2017</td>\n",
       "      <td>Jul 23, 2016</td>\n",
       "      <td>Yes</td>\n",
       "    </tr>\n",
       "    <tr>\n",
       "      <th>4</th>\n",
       "      <td>Max Braun</td>\n",
       "      <td>When I couldn’t buy a smart mirror and made on...</td>\n",
       "      <td>10.My Bathroom Mirror Is Smarter Than Yours</td>\n",
       "      <td>7400</td>\n",
       "      <td>Inevitable technology. Lately robots at X.</td>\n",
       "      <td>10353</td>\n",
       "      <td>9506</td>\n",
       "      <td>3</td>\n",
       "      <td>Maybe I’ll post a more detailed making-of with...</td>\n",
       "      <td>NaN</td>\n",
       "      <td>Jan 30, 2016</td>\n",
       "      <td>Yes</td>\n",
       "    </tr>\n",
       "  </tbody>\n",
       "</table>\n",
       "</div>"
      ],
      "text/plain": [
       "           author                                               body  \\\n",
       "0    Josh Spector  You’re busy, so I’ll keep this quick.\\nFollowi...   \n",
       "1  Trent Lapinski  rump Is What Happens When You Nominate A Cheat...   \n",
       "2    Shem Magnezi  That’s right, I said it.\\n\\nFuck your startup ...   \n",
       "3    Tobias Stone  It seems we’re entering another of those stupi...   \n",
       "4       Max Braun  When I couldn’t buy a smart mirror and made on...   \n",
       "\n",
       "                                            filename  followers  \\\n",
       "0  3.The Two Minutes It Takes To Read This Will I...      27000   \n",
       "1  8.Dear Democrats, Read This If You Do Not Unde...      13400   \n",
       "2                           2.Fuck You Startup World       6200   \n",
       "3  1.History tells us what may happen next with B...      27000   \n",
       "4        10.My Bathroom Mirror Is Smarter Than Yours       7400   \n",
       "\n",
       "                                         description  claps  people_clapped  \\\n",
       "0  Writer. Strategist. For The Interested newslet...  25191           17953   \n",
       "1  Tech Entrepreneur. Journalist. Technologist. C...  10885            9981   \n",
       "2                                  Doing what I love  22661           17316   \n",
       "3  Writing about politics, history, and society. ...  18983           17092   \n",
       "4         Inevitable technology. Lately robots at X.  10353            9506   \n",
       "\n",
       "   min_read                                          high_text author_date  \\\n",
       "0         2                            Delete the word “that.”    Apr 2017   \n",
       "1         5  This is the problem with America today, the te...         NaN   \n",
       "2         5  You should celebrate any day that you don’t ha...         NaN   \n",
       "3         7  We need to find a way to bridge from our close...    Aug 2017   \n",
       "4         3  Maybe I’ll post a more detailed making-of with...         NaN   \n",
       "\n",
       "           date images  \n",
       "0  Jul 22, 2016    Yes  \n",
       "1   Nov 9, 2016    Yes  \n",
       "2  Oct 11, 2016    Yes  \n",
       "3  Jul 23, 2016    Yes  \n",
       "4  Jan 30, 2016    Yes  "
      ]
     },
     "execution_count": 4,
     "metadata": {},
     "output_type": "execute_result"
    }
   ],
   "source": [
    "df.head()"
   ]
  },
  {
   "cell_type": "code",
   "execution_count": null,
   "metadata": {
    "collapsed": true
   },
   "outputs": [],
   "source": []
  },
  {
   "cell_type": "code",
   "execution_count": null,
   "metadata": {
    "collapsed": true
   },
   "outputs": [],
   "source": []
  },
  {
   "cell_type": "code",
   "execution_count": 8,
   "metadata": {
    "collapsed": true
   },
   "outputs": [],
   "source": []
  },
  {
   "cell_type": "code",
   "execution_count": 5,
   "metadata": {
    "collapsed": true
   },
   "outputs": [],
   "source": [
    "df = df.rename(columns={'body': 'content'})"
   ]
  },
  {
   "cell_type": "code",
   "execution_count": 6,
   "metadata": {
    "collapsed": true
   },
   "outputs": [],
   "source": [
    "df.content = df.content.apply(str)"
   ]
  },
  {
   "cell_type": "code",
   "execution_count": 7,
   "metadata": {
    "collapsed": true
   },
   "outputs": [],
   "source": [
    "df[\"content\"] = df[\"content\"].apply(clean)"
   ]
  },
  {
   "cell_type": "code",
   "execution_count": 8,
   "metadata": {},
   "outputs": [
    {
     "data": {
      "text/plain": [
       "(10, 12)"
      ]
     },
     "execution_count": 8,
     "metadata": {},
     "output_type": "execute_result"
    }
   ],
   "source": [
    "df.shape"
   ]
  },
  {
   "cell_type": "code",
   "execution_count": 9,
   "metadata": {},
   "outputs": [
    {
     "data": {
      "text/html": [
       "<div>\n",
       "<style>\n",
       "    .dataframe thead tr:only-child th {\n",
       "        text-align: right;\n",
       "    }\n",
       "\n",
       "    .dataframe thead th {\n",
       "        text-align: left;\n",
       "    }\n",
       "\n",
       "    .dataframe tbody tr th {\n",
       "        vertical-align: top;\n",
       "    }\n",
       "</style>\n",
       "<table border=\"1\" class=\"dataframe\">\n",
       "  <thead>\n",
       "    <tr style=\"text-align: right;\">\n",
       "      <th></th>\n",
       "      <th>author</th>\n",
       "      <th>content</th>\n",
       "      <th>filename</th>\n",
       "      <th>followers</th>\n",
       "      <th>description</th>\n",
       "      <th>claps</th>\n",
       "      <th>people_clapped</th>\n",
       "      <th>min_read</th>\n",
       "      <th>high_text</th>\n",
       "      <th>author_date</th>\n",
       "      <th>date</th>\n",
       "      <th>images</th>\n",
       "    </tr>\n",
       "  </thead>\n",
       "  <tbody>\n",
       "    <tr>\n",
       "      <th>0</th>\n",
       "      <td>Josh Spector</td>\n",
       "      <td>You re busy so I ll keep this quick Following ...</td>\n",
       "      <td>3.The Two Minutes It Takes To Read This Will I...</td>\n",
       "      <td>27000</td>\n",
       "      <td>Writer. Strategist. For The Interested newslet...</td>\n",
       "      <td>25191</td>\n",
       "      <td>17953</td>\n",
       "      <td>2</td>\n",
       "      <td>Delete the word “that.”</td>\n",
       "      <td>Apr 2017</td>\n",
       "      <td>Jul 22, 2016</td>\n",
       "      <td>Yes</td>\n",
       "    </tr>\n",
       "    <tr>\n",
       "      <th>1</th>\n",
       "      <td>Trent Lapinski</td>\n",
       "      <td>rump Is What Happens When You Nominate A Cheat...</td>\n",
       "      <td>8.Dear Democrats, Read This If You Do Not Unde...</td>\n",
       "      <td>13400</td>\n",
       "      <td>Tech Entrepreneur. Journalist. Technologist. C...</td>\n",
       "      <td>10885</td>\n",
       "      <td>9981</td>\n",
       "      <td>5</td>\n",
       "      <td>This is the problem with America today, the te...</td>\n",
       "      <td>NaN</td>\n",
       "      <td>Nov 9, 2016</td>\n",
       "      <td>Yes</td>\n",
       "    </tr>\n",
       "    <tr>\n",
       "      <th>2</th>\n",
       "      <td>Shem Magnezi</td>\n",
       "      <td>That s right I said it Fuck your startup scene...</td>\n",
       "      <td>2.Fuck You Startup World</td>\n",
       "      <td>6200</td>\n",
       "      <td>Doing what I love</td>\n",
       "      <td>22661</td>\n",
       "      <td>17316</td>\n",
       "      <td>5</td>\n",
       "      <td>You should celebrate any day that you don’t ha...</td>\n",
       "      <td>NaN</td>\n",
       "      <td>Oct 11, 2016</td>\n",
       "      <td>Yes</td>\n",
       "    </tr>\n",
       "    <tr>\n",
       "      <th>3</th>\n",
       "      <td>Tobias Stone</td>\n",
       "      <td>It seems we re entering another of those stupi...</td>\n",
       "      <td>1.History tells us what may happen next with B...</td>\n",
       "      <td>27000</td>\n",
       "      <td>Writing about politics, history, and society. ...</td>\n",
       "      <td>18983</td>\n",
       "      <td>17092</td>\n",
       "      <td>7</td>\n",
       "      <td>We need to find a way to bridge from our close...</td>\n",
       "      <td>Aug 2017</td>\n",
       "      <td>Jul 23, 2016</td>\n",
       "      <td>Yes</td>\n",
       "    </tr>\n",
       "    <tr>\n",
       "      <th>4</th>\n",
       "      <td>Max Braun</td>\n",
       "      <td>When I couldn t buy a smart mirror and made on...</td>\n",
       "      <td>10.My Bathroom Mirror Is Smarter Than Yours</td>\n",
       "      <td>7400</td>\n",
       "      <td>Inevitable technology. Lately robots at X.</td>\n",
       "      <td>10353</td>\n",
       "      <td>9506</td>\n",
       "      <td>3</td>\n",
       "      <td>Maybe I’ll post a more detailed making-of with...</td>\n",
       "      <td>NaN</td>\n",
       "      <td>Jan 30, 2016</td>\n",
       "      <td>Yes</td>\n",
       "    </tr>\n",
       "  </tbody>\n",
       "</table>\n",
       "</div>"
      ],
      "text/plain": [
       "           author                                            content  \\\n",
       "0    Josh Spector  You re busy so I ll keep this quick Following ...   \n",
       "1  Trent Lapinski  rump Is What Happens When You Nominate A Cheat...   \n",
       "2    Shem Magnezi  That s right I said it Fuck your startup scene...   \n",
       "3    Tobias Stone  It seems we re entering another of those stupi...   \n",
       "4       Max Braun  When I couldn t buy a smart mirror and made on...   \n",
       "\n",
       "                                            filename  followers  \\\n",
       "0  3.The Two Minutes It Takes To Read This Will I...      27000   \n",
       "1  8.Dear Democrats, Read This If You Do Not Unde...      13400   \n",
       "2                           2.Fuck You Startup World       6200   \n",
       "3  1.History tells us what may happen next with B...      27000   \n",
       "4        10.My Bathroom Mirror Is Smarter Than Yours       7400   \n",
       "\n",
       "                                         description  claps  people_clapped  \\\n",
       "0  Writer. Strategist. For The Interested newslet...  25191           17953   \n",
       "1  Tech Entrepreneur. Journalist. Technologist. C...  10885            9981   \n",
       "2                                  Doing what I love  22661           17316   \n",
       "3  Writing about politics, history, and society. ...  18983           17092   \n",
       "4         Inevitable technology. Lately robots at X.  10353            9506   \n",
       "\n",
       "   min_read                                          high_text author_date  \\\n",
       "0         2                            Delete the word “that.”    Apr 2017   \n",
       "1         5  This is the problem with America today, the te...         NaN   \n",
       "2         5  You should celebrate any day that you don’t ha...         NaN   \n",
       "3         7  We need to find a way to bridge from our close...    Aug 2017   \n",
       "4         3  Maybe I’ll post a more detailed making-of with...         NaN   \n",
       "\n",
       "           date images  \n",
       "0  Jul 22, 2016    Yes  \n",
       "1   Nov 9, 2016    Yes  \n",
       "2  Oct 11, 2016    Yes  \n",
       "3  Jul 23, 2016    Yes  \n",
       "4  Jan 30, 2016    Yes  "
      ]
     },
     "execution_count": 9,
     "metadata": {},
     "output_type": "execute_result"
    }
   ],
   "source": [
    "df.head()"
   ]
  },
  {
   "cell_type": "code",
   "execution_count": 10,
   "metadata": {},
   "outputs": [
    {
     "data": {
      "text/plain": [
       "0      aback\n",
       "1     abacus\n",
       "2    abandon\n",
       "Name: word, dtype: object"
      ]
     },
     "execution_count": 10,
     "metadata": {},
     "output_type": "execute_result"
    }
   ],
   "source": [
    "emolex_df['word'].head(3)"
   ]
  },
  {
   "cell_type": "code",
   "execution_count": 11,
   "metadata": {},
   "outputs": [
    {
     "data": {
      "text/html": [
       "<div>\n",
       "<style>\n",
       "    .dataframe thead tr:only-child th {\n",
       "        text-align: right;\n",
       "    }\n",
       "\n",
       "    .dataframe thead th {\n",
       "        text-align: left;\n",
       "    }\n",
       "\n",
       "    .dataframe tbody tr th {\n",
       "        vertical-align: top;\n",
       "    }\n",
       "</style>\n",
       "<table border=\"1\" class=\"dataframe\">\n",
       "  <thead>\n",
       "    <tr style=\"text-align: right;\">\n",
       "      <th></th>\n",
       "      <th>aback</th>\n",
       "      <th>abacus</th>\n",
       "      <th>abandon</th>\n",
       "      <th>abandoned</th>\n",
       "      <th>abandonment</th>\n",
       "      <th>abate</th>\n",
       "      <th>abatement</th>\n",
       "      <th>abba</th>\n",
       "      <th>abbot</th>\n",
       "      <th>abbreviate</th>\n",
       "      <th>...</th>\n",
       "      <th>zephyr</th>\n",
       "      <th>zeppelin</th>\n",
       "      <th>zest</th>\n",
       "      <th>zip</th>\n",
       "      <th>zodiac</th>\n",
       "      <th>zone</th>\n",
       "      <th>zoo</th>\n",
       "      <th>zoological</th>\n",
       "      <th>zoology</th>\n",
       "      <th>zoom</th>\n",
       "    </tr>\n",
       "  </thead>\n",
       "  <tbody>\n",
       "    <tr>\n",
       "      <th>0</th>\n",
       "      <td>0.0</td>\n",
       "      <td>0.0</td>\n",
       "      <td>0.0</td>\n",
       "      <td>0.0</td>\n",
       "      <td>0.0</td>\n",
       "      <td>0.0</td>\n",
       "      <td>0.0</td>\n",
       "      <td>0.0</td>\n",
       "      <td>0.0</td>\n",
       "      <td>0.0</td>\n",
       "      <td>...</td>\n",
       "      <td>0.0</td>\n",
       "      <td>0.0</td>\n",
       "      <td>0.0</td>\n",
       "      <td>0.0</td>\n",
       "      <td>0.0</td>\n",
       "      <td>0.0</td>\n",
       "      <td>0.0</td>\n",
       "      <td>0.0</td>\n",
       "      <td>0.0</td>\n",
       "      <td>0.000000</td>\n",
       "    </tr>\n",
       "    <tr>\n",
       "      <th>1</th>\n",
       "      <td>0.0</td>\n",
       "      <td>0.0</td>\n",
       "      <td>0.0</td>\n",
       "      <td>0.0</td>\n",
       "      <td>0.0</td>\n",
       "      <td>0.0</td>\n",
       "      <td>0.0</td>\n",
       "      <td>0.0</td>\n",
       "      <td>0.0</td>\n",
       "      <td>0.0</td>\n",
       "      <td>...</td>\n",
       "      <td>0.0</td>\n",
       "      <td>0.0</td>\n",
       "      <td>0.0</td>\n",
       "      <td>0.0</td>\n",
       "      <td>0.0</td>\n",
       "      <td>0.0</td>\n",
       "      <td>0.0</td>\n",
       "      <td>0.0</td>\n",
       "      <td>0.0</td>\n",
       "      <td>0.000000</td>\n",
       "    </tr>\n",
       "    <tr>\n",
       "      <th>2</th>\n",
       "      <td>0.0</td>\n",
       "      <td>0.0</td>\n",
       "      <td>0.0</td>\n",
       "      <td>0.0</td>\n",
       "      <td>0.0</td>\n",
       "      <td>0.0</td>\n",
       "      <td>0.0</td>\n",
       "      <td>0.0</td>\n",
       "      <td>0.0</td>\n",
       "      <td>0.0</td>\n",
       "      <td>...</td>\n",
       "      <td>0.0</td>\n",
       "      <td>0.0</td>\n",
       "      <td>0.0</td>\n",
       "      <td>0.0</td>\n",
       "      <td>0.0</td>\n",
       "      <td>0.0</td>\n",
       "      <td>0.0</td>\n",
       "      <td>0.0</td>\n",
       "      <td>0.0</td>\n",
       "      <td>0.000000</td>\n",
       "    </tr>\n",
       "    <tr>\n",
       "      <th>3</th>\n",
       "      <td>0.0</td>\n",
       "      <td>0.0</td>\n",
       "      <td>0.0</td>\n",
       "      <td>0.0</td>\n",
       "      <td>0.0</td>\n",
       "      <td>0.0</td>\n",
       "      <td>0.0</td>\n",
       "      <td>0.0</td>\n",
       "      <td>0.0</td>\n",
       "      <td>0.0</td>\n",
       "      <td>...</td>\n",
       "      <td>0.0</td>\n",
       "      <td>0.0</td>\n",
       "      <td>0.0</td>\n",
       "      <td>0.0</td>\n",
       "      <td>0.0</td>\n",
       "      <td>0.0</td>\n",
       "      <td>0.0</td>\n",
       "      <td>0.0</td>\n",
       "      <td>0.0</td>\n",
       "      <td>0.001672</td>\n",
       "    </tr>\n",
       "    <tr>\n",
       "      <th>4</th>\n",
       "      <td>0.0</td>\n",
       "      <td>0.0</td>\n",
       "      <td>0.0</td>\n",
       "      <td>0.0</td>\n",
       "      <td>0.0</td>\n",
       "      <td>0.0</td>\n",
       "      <td>0.0</td>\n",
       "      <td>0.0</td>\n",
       "      <td>0.0</td>\n",
       "      <td>0.0</td>\n",
       "      <td>...</td>\n",
       "      <td>0.0</td>\n",
       "      <td>0.0</td>\n",
       "      <td>0.0</td>\n",
       "      <td>0.0</td>\n",
       "      <td>0.0</td>\n",
       "      <td>0.0</td>\n",
       "      <td>0.0</td>\n",
       "      <td>0.0</td>\n",
       "      <td>0.0</td>\n",
       "      <td>0.000000</td>\n",
       "    </tr>\n",
       "  </tbody>\n",
       "</table>\n",
       "<p>5 rows × 14182 columns</p>\n",
       "</div>"
      ],
      "text/plain": [
       "   aback  abacus  abandon  abandoned  abandonment  abate  abatement  abba  \\\n",
       "0    0.0     0.0      0.0        0.0          0.0    0.0        0.0   0.0   \n",
       "1    0.0     0.0      0.0        0.0          0.0    0.0        0.0   0.0   \n",
       "2    0.0     0.0      0.0        0.0          0.0    0.0        0.0   0.0   \n",
       "3    0.0     0.0      0.0        0.0          0.0    0.0        0.0   0.0   \n",
       "4    0.0     0.0      0.0        0.0          0.0    0.0        0.0   0.0   \n",
       "\n",
       "   abbot  abbreviate    ...     zephyr  zeppelin  zest  zip  zodiac  zone  \\\n",
       "0    0.0         0.0    ...        0.0       0.0   0.0  0.0     0.0   0.0   \n",
       "1    0.0         0.0    ...        0.0       0.0   0.0  0.0     0.0   0.0   \n",
       "2    0.0         0.0    ...        0.0       0.0   0.0  0.0     0.0   0.0   \n",
       "3    0.0         0.0    ...        0.0       0.0   0.0  0.0     0.0   0.0   \n",
       "4    0.0         0.0    ...        0.0       0.0   0.0  0.0     0.0   0.0   \n",
       "\n",
       "   zoo  zoological  zoology      zoom  \n",
       "0  0.0         0.0      0.0  0.000000  \n",
       "1  0.0         0.0      0.0  0.000000  \n",
       "2  0.0         0.0      0.0  0.000000  \n",
       "3  0.0         0.0      0.0  0.001672  \n",
       "4  0.0         0.0      0.0  0.000000  \n",
       "\n",
       "[5 rows x 14182 columns]"
      ]
     },
     "execution_count": 11,
     "metadata": {},
     "output_type": "execute_result"
    }
   ],
   "source": [
    "from sklearn.feature_extraction.text import TfidfVectorizer\n",
    "\n",
    "# I only want you to look for words in the emotional lexicon\n",
    "# because we don't know what's up with the other words\n",
    "vec = TfidfVectorizer(vocabulary=emolex_df.word,\n",
    "                      use_idf=False, \n",
    "                      norm='l1') # ELL - ONE\n",
    "matrix = vec.fit_transform(df['content'])\n",
    "vocab = vec.get_feature_names()\n",
    "wordcount_df = pd.DataFrame(matrix.toarray(), columns=vocab)\n",
    "wordcount_df.head()"
   ]
  },
  {
   "cell_type": "code",
   "execution_count": 12,
   "metadata": {
    "scrolled": true
   },
   "outputs": [
    {
     "data": {
      "text/html": [
       "<div>\n",
       "<style>\n",
       "    .dataframe thead tr:only-child th {\n",
       "        text-align: right;\n",
       "    }\n",
       "\n",
       "    .dataframe thead th {\n",
       "        text-align: left;\n",
       "    }\n",
       "\n",
       "    .dataframe tbody tr th {\n",
       "        vertical-align: top;\n",
       "    }\n",
       "</style>\n",
       "<table border=\"1\" class=\"dataframe\">\n",
       "  <thead>\n",
       "    <tr style=\"text-align: right;\">\n",
       "      <th>emotion</th>\n",
       "      <th>word</th>\n",
       "      <th>anger</th>\n",
       "      <th>anticipation</th>\n",
       "      <th>disgust</th>\n",
       "      <th>fear</th>\n",
       "      <th>joy</th>\n",
       "      <th>negative</th>\n",
       "      <th>positive</th>\n",
       "      <th>sadness</th>\n",
       "      <th>surprise</th>\n",
       "      <th>trust</th>\n",
       "    </tr>\n",
       "  </thead>\n",
       "  <tbody>\n",
       "    <tr>\n",
       "      <th>0</th>\n",
       "      <td>aback</td>\n",
       "      <td>0</td>\n",
       "      <td>0</td>\n",
       "      <td>0</td>\n",
       "      <td>0</td>\n",
       "      <td>0</td>\n",
       "      <td>0</td>\n",
       "      <td>0</td>\n",
       "      <td>0</td>\n",
       "      <td>0</td>\n",
       "      <td>0</td>\n",
       "    </tr>\n",
       "    <tr>\n",
       "      <th>1</th>\n",
       "      <td>abacus</td>\n",
       "      <td>0</td>\n",
       "      <td>0</td>\n",
       "      <td>0</td>\n",
       "      <td>0</td>\n",
       "      <td>0</td>\n",
       "      <td>0</td>\n",
       "      <td>0</td>\n",
       "      <td>0</td>\n",
       "      <td>0</td>\n",
       "      <td>1</td>\n",
       "    </tr>\n",
       "    <tr>\n",
       "      <th>2</th>\n",
       "      <td>abandon</td>\n",
       "      <td>0</td>\n",
       "      <td>0</td>\n",
       "      <td>0</td>\n",
       "      <td>1</td>\n",
       "      <td>0</td>\n",
       "      <td>1</td>\n",
       "      <td>0</td>\n",
       "      <td>1</td>\n",
       "      <td>0</td>\n",
       "      <td>0</td>\n",
       "    </tr>\n",
       "    <tr>\n",
       "      <th>3</th>\n",
       "      <td>abandoned</td>\n",
       "      <td>1</td>\n",
       "      <td>0</td>\n",
       "      <td>0</td>\n",
       "      <td>1</td>\n",
       "      <td>0</td>\n",
       "      <td>1</td>\n",
       "      <td>0</td>\n",
       "      <td>1</td>\n",
       "      <td>0</td>\n",
       "      <td>0</td>\n",
       "    </tr>\n",
       "    <tr>\n",
       "      <th>4</th>\n",
       "      <td>abandonment</td>\n",
       "      <td>1</td>\n",
       "      <td>0</td>\n",
       "      <td>0</td>\n",
       "      <td>1</td>\n",
       "      <td>0</td>\n",
       "      <td>1</td>\n",
       "      <td>0</td>\n",
       "      <td>1</td>\n",
       "      <td>1</td>\n",
       "      <td>0</td>\n",
       "    </tr>\n",
       "  </tbody>\n",
       "</table>\n",
       "</div>"
      ],
      "text/plain": [
       "emotion         word  anger  anticipation  disgust  fear  joy  negative  \\\n",
       "0              aback      0             0        0     0    0         0   \n",
       "1             abacus      0             0        0     0    0         0   \n",
       "2            abandon      0             0        0     1    0         1   \n",
       "3          abandoned      1             0        0     1    0         1   \n",
       "4        abandonment      1             0        0     1    0         1   \n",
       "\n",
       "emotion  positive  sadness  surprise  trust  \n",
       "0               0        0         0      0  \n",
       "1               0        0         0      1  \n",
       "2               0        1         0      0  \n",
       "3               0        1         0      0  \n",
       "4               0        1         1      0  "
      ]
     },
     "execution_count": 12,
     "metadata": {},
     "output_type": "execute_result"
    }
   ],
   "source": [
    "emolex_df.head()"
   ]
  },
  {
   "cell_type": "code",
   "execution_count": 13,
   "metadata": {},
   "outputs": [
    {
     "data": {
      "text/html": [
       "<div>\n",
       "<style>\n",
       "    .dataframe thead tr:only-child th {\n",
       "        text-align: right;\n",
       "    }\n",
       "\n",
       "    .dataframe thead th {\n",
       "        text-align: left;\n",
       "    }\n",
       "\n",
       "    .dataframe tbody tr th {\n",
       "        vertical-align: top;\n",
       "    }\n",
       "</style>\n",
       "<table border=\"1\" class=\"dataframe\">\n",
       "  <thead>\n",
       "    <tr style=\"text-align: right;\">\n",
       "      <th>emotion</th>\n",
       "      <th>word</th>\n",
       "      <th>anger</th>\n",
       "      <th>anticipation</th>\n",
       "      <th>disgust</th>\n",
       "      <th>fear</th>\n",
       "      <th>joy</th>\n",
       "      <th>negative</th>\n",
       "      <th>positive</th>\n",
       "      <th>sadness</th>\n",
       "      <th>surprise</th>\n",
       "      <th>trust</th>\n",
       "    </tr>\n",
       "  </thead>\n",
       "  <tbody>\n",
       "    <tr>\n",
       "      <th>3</th>\n",
       "      <td>abandoned</td>\n",
       "      <td>1</td>\n",
       "      <td>0</td>\n",
       "      <td>0</td>\n",
       "      <td>1</td>\n",
       "      <td>0</td>\n",
       "      <td>1</td>\n",
       "      <td>0</td>\n",
       "      <td>1</td>\n",
       "      <td>0</td>\n",
       "      <td>0</td>\n",
       "    </tr>\n",
       "    <tr>\n",
       "      <th>4</th>\n",
       "      <td>abandonment</td>\n",
       "      <td>1</td>\n",
       "      <td>0</td>\n",
       "      <td>0</td>\n",
       "      <td>1</td>\n",
       "      <td>0</td>\n",
       "      <td>1</td>\n",
       "      <td>0</td>\n",
       "      <td>1</td>\n",
       "      <td>1</td>\n",
       "      <td>0</td>\n",
       "    </tr>\n",
       "    <tr>\n",
       "      <th>17</th>\n",
       "      <td>abhor</td>\n",
       "      <td>1</td>\n",
       "      <td>0</td>\n",
       "      <td>1</td>\n",
       "      <td>1</td>\n",
       "      <td>0</td>\n",
       "      <td>1</td>\n",
       "      <td>0</td>\n",
       "      <td>0</td>\n",
       "      <td>0</td>\n",
       "      <td>0</td>\n",
       "    </tr>\n",
       "    <tr>\n",
       "      <th>18</th>\n",
       "      <td>abhorrent</td>\n",
       "      <td>1</td>\n",
       "      <td>0</td>\n",
       "      <td>1</td>\n",
       "      <td>1</td>\n",
       "      <td>0</td>\n",
       "      <td>1</td>\n",
       "      <td>0</td>\n",
       "      <td>0</td>\n",
       "      <td>0</td>\n",
       "      <td>0</td>\n",
       "    </tr>\n",
       "    <tr>\n",
       "      <th>27</th>\n",
       "      <td>abolish</td>\n",
       "      <td>1</td>\n",
       "      <td>0</td>\n",
       "      <td>0</td>\n",
       "      <td>0</td>\n",
       "      <td>0</td>\n",
       "      <td>1</td>\n",
       "      <td>0</td>\n",
       "      <td>0</td>\n",
       "      <td>0</td>\n",
       "      <td>0</td>\n",
       "    </tr>\n",
       "  </tbody>\n",
       "</table>\n",
       "</div>"
      ],
      "text/plain": [
       "emotion         word  anger  anticipation  disgust  fear  joy  negative  \\\n",
       "3          abandoned      1             0        0     1    0         1   \n",
       "4        abandonment      1             0        0     1    0         1   \n",
       "17             abhor      1             0        1     1    0         1   \n",
       "18         abhorrent      1             0        1     1    0         1   \n",
       "27           abolish      1             0        0     0    0         1   \n",
       "\n",
       "emotion  positive  sadness  surprise  trust  \n",
       "3               0        1         0      0  \n",
       "4               0        1         1      0  \n",
       "17              0        0         0      0  \n",
       "18              0        0         0      0  \n",
       "27              0        0         0      0  "
      ]
     },
     "execution_count": 13,
     "metadata": {},
     "output_type": "execute_result"
    }
   ],
   "source": [
    "emolex_df[emolex_df.anger == 1].head()"
   ]
  },
  {
   "cell_type": "markdown",
   "metadata": {},
   "source": []
  },
  {
   "cell_type": "code",
   "execution_count": 14,
   "metadata": {},
   "outputs": [],
   "source": [
    "# Get your list of positive words\n",
    "\n",
    "angry_words = emolex_df[emolex_df.anger == 1]['word']\n",
    "\n",
    "positive_words = emolex_df[emolex_df.positive == 1]['word']\n",
    "\n",
    "\n",
    "# Get your list of sadness words\n",
    "sadness_words = emolex_df[emolex_df.sadness == 1]['word']\n",
    "\n",
    "\n",
    "# Get your list of surprise words\n",
    "surprise_words = emolex_df[emolex_df.surprise == 1]['word']\n",
    "\n",
    "\n",
    "# Get your list of disgust words\n",
    "disgust_words = emolex_df[emolex_df.disgust == 1]['word']\n",
    "\n",
    "\n",
    "# Get your list of anticipation words\n",
    "anticipation_words = emolex_df[emolex_df.anticipation == 1]['word']\n",
    "\n",
    "\n",
    "# Get your list of negative words\n",
    "negative_words = emolex_df[emolex_df.negative == 1]['word']\n",
    "\n",
    "\n",
    "\n",
    "# Get your list of joy words\n",
    "joy_words = emolex_df[emolex_df.joy == 1]['word']\n",
    "\n",
    "\n",
    "# Get your list of trust words\n",
    "trust_words = emolex_df[emolex_df.trust == 1]['word']\n",
    "\n",
    "\n",
    "\n",
    "# Get your list of fear words\n",
    "fear_words = emolex_df[emolex_df.fear == 1]['word']\n",
    "\n",
    "\n"
   ]
  },
  {
   "cell_type": "code",
   "execution_count": 15,
   "metadata": {},
   "outputs": [
    {
     "data": {
      "text/html": [
       "<div>\n",
       "<style>\n",
       "    .dataframe thead tr:only-child th {\n",
       "        text-align: right;\n",
       "    }\n",
       "\n",
       "    .dataframe thead th {\n",
       "        text-align: left;\n",
       "    }\n",
       "\n",
       "    .dataframe tbody tr th {\n",
       "        vertical-align: top;\n",
       "    }\n",
       "</style>\n",
       "<table border=\"1\" class=\"dataframe\">\n",
       "  <thead>\n",
       "    <tr style=\"text-align: right;\">\n",
       "      <th></th>\n",
       "      <th>author</th>\n",
       "      <th>content</th>\n",
       "      <th>filename</th>\n",
       "      <th>followers</th>\n",
       "      <th>description</th>\n",
       "      <th>claps</th>\n",
       "      <th>people_clapped</th>\n",
       "      <th>min_read</th>\n",
       "      <th>high_text</th>\n",
       "      <th>author_date</th>\n",
       "      <th>date</th>\n",
       "      <th>images</th>\n",
       "    </tr>\n",
       "  </thead>\n",
       "  <tbody>\n",
       "    <tr>\n",
       "      <th>0</th>\n",
       "      <td>Josh Spector</td>\n",
       "      <td>You re busy so I ll keep this quick Following ...</td>\n",
       "      <td>3.The Two Minutes It Takes To Read This Will I...</td>\n",
       "      <td>27000</td>\n",
       "      <td>Writer. Strategist. For The Interested newslet...</td>\n",
       "      <td>25191</td>\n",
       "      <td>17953</td>\n",
       "      <td>2</td>\n",
       "      <td>Delete the word “that.”</td>\n",
       "      <td>Apr 2017</td>\n",
       "      <td>Jul 22, 2016</td>\n",
       "      <td>Yes</td>\n",
       "    </tr>\n",
       "    <tr>\n",
       "      <th>1</th>\n",
       "      <td>Trent Lapinski</td>\n",
       "      <td>rump Is What Happens When You Nominate A Cheat...</td>\n",
       "      <td>8.Dear Democrats, Read This If You Do Not Unde...</td>\n",
       "      <td>13400</td>\n",
       "      <td>Tech Entrepreneur. Journalist. Technologist. C...</td>\n",
       "      <td>10885</td>\n",
       "      <td>9981</td>\n",
       "      <td>5</td>\n",
       "      <td>This is the problem with America today, the te...</td>\n",
       "      <td>NaN</td>\n",
       "      <td>Nov 9, 2016</td>\n",
       "      <td>Yes</td>\n",
       "    </tr>\n",
       "    <tr>\n",
       "      <th>2</th>\n",
       "      <td>Shem Magnezi</td>\n",
       "      <td>That s right I said it Fuck your startup scene...</td>\n",
       "      <td>2.Fuck You Startup World</td>\n",
       "      <td>6200</td>\n",
       "      <td>Doing what I love</td>\n",
       "      <td>22661</td>\n",
       "      <td>17316</td>\n",
       "      <td>5</td>\n",
       "      <td>You should celebrate any day that you don’t ha...</td>\n",
       "      <td>NaN</td>\n",
       "      <td>Oct 11, 2016</td>\n",
       "      <td>Yes</td>\n",
       "    </tr>\n",
       "  </tbody>\n",
       "</table>\n",
       "</div>"
      ],
      "text/plain": [
       "           author                                            content  \\\n",
       "0    Josh Spector  You re busy so I ll keep this quick Following ...   \n",
       "1  Trent Lapinski  rump Is What Happens When You Nominate A Cheat...   \n",
       "2    Shem Magnezi  That s right I said it Fuck your startup scene...   \n",
       "\n",
       "                                            filename  followers  \\\n",
       "0  3.The Two Minutes It Takes To Read This Will I...      27000   \n",
       "1  8.Dear Democrats, Read This If You Do Not Unde...      13400   \n",
       "2                           2.Fuck You Startup World       6200   \n",
       "\n",
       "                                         description  claps  people_clapped  \\\n",
       "0  Writer. Strategist. For The Interested newslet...  25191           17953   \n",
       "1  Tech Entrepreneur. Journalist. Technologist. C...  10885            9981   \n",
       "2                                  Doing what I love  22661           17316   \n",
       "\n",
       "   min_read                                          high_text author_date  \\\n",
       "0         2                            Delete the word “that.”    Apr 2017   \n",
       "1         5  This is the problem with America today, the te...         NaN   \n",
       "2         5  You should celebrate any day that you don’t ha...         NaN   \n",
       "\n",
       "           date images  \n",
       "0  Jul 22, 2016    Yes  \n",
       "1   Nov 9, 2016    Yes  \n",
       "2  Oct 11, 2016    Yes  "
      ]
     },
     "execution_count": 15,
     "metadata": {},
     "output_type": "execute_result"
    }
   ],
   "source": [
    "df.head(3)"
   ]
  },
  {
   "cell_type": "code",
   "execution_count": 16,
   "metadata": {
    "collapsed": true
   },
   "outputs": [],
   "source": [
    "df['anger'] = wordcount_df[angry_words].sum(axis=1)\n",
    "\n",
    "df['positivity'] = wordcount_df[positive_words].sum(axis=1)\n",
    "\n",
    "\n",
    "df['joy'] = wordcount_df[joy_words].sum(axis=1)\n",
    "\n",
    "\n",
    "df['disgust'] = wordcount_df[disgust_words].sum(axis=1)\n",
    "\n",
    "\n",
    "\n",
    "df['surprise'] = wordcount_df[surprise_words].sum(axis=1)\n",
    "\n",
    "df['trust'] = wordcount_df[trust_words].sum(axis=1)\n",
    "\n",
    "\n",
    "df['anticipation'] = wordcount_df[anticipation_words].sum(axis=1)\n",
    "\n",
    "\n",
    "df['sadness'] = wordcount_df[sadness_words].sum(axis=1)\n",
    "\n",
    "df['negative'] = wordcount_df[negative_words].sum(axis=1)\n",
    "\n",
    "df['fear'] = wordcount_df[fear_words].sum(axis=1)\n",
    "\n",
    "\n"
   ]
  },
  {
   "cell_type": "code",
   "execution_count": 51,
   "metadata": {},
   "outputs": [
    {
     "data": {
      "text/html": [
       "<div>\n",
       "<style>\n",
       "    .dataframe thead tr:only-child th {\n",
       "        text-align: right;\n",
       "    }\n",
       "\n",
       "    .dataframe thead th {\n",
       "        text-align: left;\n",
       "    }\n",
       "\n",
       "    .dataframe tbody tr th {\n",
       "        vertical-align: top;\n",
       "    }\n",
       "</style>\n",
       "<table border=\"1\" class=\"dataframe\">\n",
       "  <thead>\n",
       "    <tr style=\"text-align: right;\">\n",
       "      <th></th>\n",
       "      <th>author</th>\n",
       "      <th>content</th>\n",
       "      <th>filename</th>\n",
       "      <th>followers</th>\n",
       "      <th>description</th>\n",
       "      <th>claps</th>\n",
       "      <th>people_clapped</th>\n",
       "      <th>min_read</th>\n",
       "      <th>high_text</th>\n",
       "      <th>author_date</th>\n",
       "      <th>...</th>\n",
       "      <th>anger</th>\n",
       "      <th>positivity</th>\n",
       "      <th>joy</th>\n",
       "      <th>disgust</th>\n",
       "      <th>surprise</th>\n",
       "      <th>trust</th>\n",
       "      <th>anticipation</th>\n",
       "      <th>sadness</th>\n",
       "      <th>negative</th>\n",
       "      <th>fear</th>\n",
       "    </tr>\n",
       "  </thead>\n",
       "  <tbody>\n",
       "    <tr>\n",
       "      <th>0</th>\n",
       "      <td>Josh Spector</td>\n",
       "      <td>You re busy so I ll keep this quick Following ...</td>\n",
       "      <td>3.The Two Minutes It Takes To Read This Will I...</td>\n",
       "      <td>27000</td>\n",
       "      <td>Writer. Strategist. For The Interested newslet...</td>\n",
       "      <td>25191</td>\n",
       "      <td>17953</td>\n",
       "      <td>2</td>\n",
       "      <td>Delete the word “that.”</td>\n",
       "      <td>Apr 2017</td>\n",
       "      <td>...</td>\n",
       "      <td>0.203704</td>\n",
       "      <td>0.277778</td>\n",
       "      <td>0.092593</td>\n",
       "      <td>0.148148</td>\n",
       "      <td>0.037037</td>\n",
       "      <td>0.185185</td>\n",
       "      <td>0.185185</td>\n",
       "      <td>0.166667</td>\n",
       "      <td>0.296296</td>\n",
       "      <td>0.185185</td>\n",
       "    </tr>\n",
       "    <tr>\n",
       "      <th>1</th>\n",
       "      <td>Trent Lapinski</td>\n",
       "      <td>rump Is What Happens When You Nominate A Cheat...</td>\n",
       "      <td>8.Dear Democrats, Read This If You Do Not Unde...</td>\n",
       "      <td>13400</td>\n",
       "      <td>Tech Entrepreneur. Journalist. Technologist. C...</td>\n",
       "      <td>10885</td>\n",
       "      <td>9981</td>\n",
       "      <td>5</td>\n",
       "      <td>This is the problem with America today, the te...</td>\n",
       "      <td>NaN</td>\n",
       "      <td>...</td>\n",
       "      <td>0.051502</td>\n",
       "      <td>0.253219</td>\n",
       "      <td>0.055794</td>\n",
       "      <td>0.021459</td>\n",
       "      <td>0.077253</td>\n",
       "      <td>0.111588</td>\n",
       "      <td>0.081545</td>\n",
       "      <td>0.051502</td>\n",
       "      <td>0.133047</td>\n",
       "      <td>0.060086</td>\n",
       "    </tr>\n",
       "    <tr>\n",
       "      <th>2</th>\n",
       "      <td>Shem Magnezi</td>\n",
       "      <td>That s right I said it Fuck your startup scene...</td>\n",
       "      <td>2.Fuck You Startup World</td>\n",
       "      <td>6200</td>\n",
       "      <td>Doing what I love</td>\n",
       "      <td>22661</td>\n",
       "      <td>17316</td>\n",
       "      <td>5</td>\n",
       "      <td>You should celebrate any day that you don’t ha...</td>\n",
       "      <td>NaN</td>\n",
       "      <td>...</td>\n",
       "      <td>0.064677</td>\n",
       "      <td>0.208955</td>\n",
       "      <td>0.079602</td>\n",
       "      <td>0.054726</td>\n",
       "      <td>0.014925</td>\n",
       "      <td>0.079602</td>\n",
       "      <td>0.094527</td>\n",
       "      <td>0.039801</td>\n",
       "      <td>0.149254</td>\n",
       "      <td>0.064677</td>\n",
       "    </tr>\n",
       "    <tr>\n",
       "      <th>3</th>\n",
       "      <td>Tobias Stone</td>\n",
       "      <td>It seems we re entering another of those stupi...</td>\n",
       "      <td>1.History tells us what may happen next with B...</td>\n",
       "      <td>27000</td>\n",
       "      <td>Writing about politics, history, and society. ...</td>\n",
       "      <td>18983</td>\n",
       "      <td>17092</td>\n",
       "      <td>7</td>\n",
       "      <td>We need to find a way to bridge from our close...</td>\n",
       "      <td>Aug 2017</td>\n",
       "      <td>...</td>\n",
       "      <td>0.123746</td>\n",
       "      <td>0.140468</td>\n",
       "      <td>0.030100</td>\n",
       "      <td>0.068562</td>\n",
       "      <td>0.045151</td>\n",
       "      <td>0.073579</td>\n",
       "      <td>0.081940</td>\n",
       "      <td>0.096990</td>\n",
       "      <td>0.239130</td>\n",
       "      <td>0.133779</td>\n",
       "    </tr>\n",
       "    <tr>\n",
       "      <th>4</th>\n",
       "      <td>Max Braun</td>\n",
       "      <td>When I couldn t buy a smart mirror and made on...</td>\n",
       "      <td>10.My Bathroom Mirror Is Smarter Than Yours</td>\n",
       "      <td>7400</td>\n",
       "      <td>Inevitable technology. Lately robots at X.</td>\n",
       "      <td>10353</td>\n",
       "      <td>9506</td>\n",
       "      <td>3</td>\n",
       "      <td>Maybe I’ll post a more detailed making-of with...</td>\n",
       "      <td>NaN</td>\n",
       "      <td>...</td>\n",
       "      <td>0.008621</td>\n",
       "      <td>0.112069</td>\n",
       "      <td>0.025862</td>\n",
       "      <td>0.025862</td>\n",
       "      <td>0.000000</td>\n",
       "      <td>0.077586</td>\n",
       "      <td>0.068966</td>\n",
       "      <td>0.017241</td>\n",
       "      <td>0.068966</td>\n",
       "      <td>0.025862</td>\n",
       "    </tr>\n",
       "    <tr>\n",
       "      <th>5</th>\n",
       "      <td>Hillary Clinton [parody]</td>\n",
       "      <td>What the fuck is your problem America I m Hill...</td>\n",
       "      <td>6.Let Me Remind You Fuckers Who I Am</td>\n",
       "      <td>12500</td>\n",
       "      <td>45th President of the United States, patriarch...</td>\n",
       "      <td>12081</td>\n",
       "      <td>11415</td>\n",
       "      <td>4</td>\n",
       "      <td>“Oh but what about your eeeemaaaaillls???” Shu...</td>\n",
       "      <td>NaN</td>\n",
       "      <td>...</td>\n",
       "      <td>0.111111</td>\n",
       "      <td>0.234568</td>\n",
       "      <td>0.092593</td>\n",
       "      <td>0.086420</td>\n",
       "      <td>0.030864</td>\n",
       "      <td>0.104938</td>\n",
       "      <td>0.123457</td>\n",
       "      <td>0.061728</td>\n",
       "      <td>0.197531</td>\n",
       "      <td>0.104938</td>\n",
       "    </tr>\n",
       "    <tr>\n",
       "      <th>6</th>\n",
       "      <td>Jose Aguinaga</td>\n",
       "      <td>No JavaScript frameworks were created during t...</td>\n",
       "      <td>4.How it feels to learn JavaScript in 2016</td>\n",
       "      <td>8700</td>\n",
       "      <td>Web Engineer.</td>\n",
       "      <td>33715</td>\n",
       "      <td>18783</td>\n",
       "      <td>13</td>\n",
       "      <td>I need to display data on a page, not perform ...</td>\n",
       "      <td>May 2017</td>\n",
       "      <td>...</td>\n",
       "      <td>0.061962</td>\n",
       "      <td>0.184165</td>\n",
       "      <td>0.044750</td>\n",
       "      <td>0.024096</td>\n",
       "      <td>0.020654</td>\n",
       "      <td>0.082616</td>\n",
       "      <td>0.087780</td>\n",
       "      <td>0.020654</td>\n",
       "      <td>0.061962</td>\n",
       "      <td>0.065404</td>\n",
       "    </tr>\n",
       "    <tr>\n",
       "      <th>7</th>\n",
       "      <td>Jose Aguinaga</td>\n",
       "      <td>It s easier to fool people than to convince th...</td>\n",
       "      <td>7.How Technology is Hijacking Your Mind — from...</td>\n",
       "      <td>15100</td>\n",
       "      <td>Co-founder, Center for Humane Technology // Ex...</td>\n",
       "      <td>21025</td>\n",
       "      <td>12638</td>\n",
       "      <td>16</td>\n",
       "      <td>We need our smartphones, notifications screens...</td>\n",
       "      <td>Jul 2017</td>\n",
       "      <td>...</td>\n",
       "      <td>0.032487</td>\n",
       "      <td>0.183756</td>\n",
       "      <td>0.038579</td>\n",
       "      <td>0.011168</td>\n",
       "      <td>0.045685</td>\n",
       "      <td>0.108629</td>\n",
       "      <td>0.073096</td>\n",
       "      <td>0.037563</td>\n",
       "      <td>0.102538</td>\n",
       "      <td>0.050761</td>\n",
       "    </tr>\n",
       "    <tr>\n",
       "      <th>8</th>\n",
       "      <td>David Hopkins</td>\n",
       "      <td>I want to discuss a popular TV show my wife an...</td>\n",
       "      <td>5.How a TV Sitcom Triggered the Downfall of We...</td>\n",
       "      <td>9800</td>\n",
       "      <td>I write a little bit of everything—short stori...</td>\n",
       "      <td>18489</td>\n",
       "      <td>15529</td>\n",
       "      <td>6</td>\n",
       "      <td>I see Kim Kardashian’s ass at the top of CNN.c...</td>\n",
       "      <td>Sep 2017</td>\n",
       "      <td>...</td>\n",
       "      <td>0.081579</td>\n",
       "      <td>0.244737</td>\n",
       "      <td>0.078947</td>\n",
       "      <td>0.065789</td>\n",
       "      <td>0.063158</td>\n",
       "      <td>0.152632</td>\n",
       "      <td>0.121053</td>\n",
       "      <td>0.073684</td>\n",
       "      <td>0.184211</td>\n",
       "      <td>0.100000</td>\n",
       "    </tr>\n",
       "    <tr>\n",
       "      <th>9</th>\n",
       "      <td>Tristan de Montebello</td>\n",
       "      <td>Almost every day I sit down in a coffee shop i...</td>\n",
       "      <td>9.What are people working on in coffee shops</td>\n",
       "      <td>2600</td>\n",
       "      <td>I teach adult beginners how to learn guitar in...</td>\n",
       "      <td>10395</td>\n",
       "      <td>9720</td>\n",
       "      <td>5</td>\n",
       "      <td>It felt absolutely amazing to connect with all...</td>\n",
       "      <td>NaN</td>\n",
       "      <td>...</td>\n",
       "      <td>0.008929</td>\n",
       "      <td>0.276786</td>\n",
       "      <td>0.111607</td>\n",
       "      <td>0.004464</td>\n",
       "      <td>0.053571</td>\n",
       "      <td>0.107143</td>\n",
       "      <td>0.116071</td>\n",
       "      <td>0.022321</td>\n",
       "      <td>0.035714</td>\n",
       "      <td>0.017857</td>\n",
       "    </tr>\n",
       "  </tbody>\n",
       "</table>\n",
       "<p>10 rows × 22 columns</p>\n",
       "</div>"
      ],
      "text/plain": [
       "                     author  \\\n",
       "0              Josh Spector   \n",
       "1            Trent Lapinski   \n",
       "2              Shem Magnezi   \n",
       "3              Tobias Stone   \n",
       "4                 Max Braun   \n",
       "5  Hillary Clinton [parody]   \n",
       "6             Jose Aguinaga   \n",
       "7             Jose Aguinaga   \n",
       "8             David Hopkins   \n",
       "9     Tristan de Montebello   \n",
       "\n",
       "                                             content  \\\n",
       "0  You re busy so I ll keep this quick Following ...   \n",
       "1  rump Is What Happens When You Nominate A Cheat...   \n",
       "2  That s right I said it Fuck your startup scene...   \n",
       "3  It seems we re entering another of those stupi...   \n",
       "4  When I couldn t buy a smart mirror and made on...   \n",
       "5  What the fuck is your problem America I m Hill...   \n",
       "6  No JavaScript frameworks were created during t...   \n",
       "7  It s easier to fool people than to convince th...   \n",
       "8  I want to discuss a popular TV show my wife an...   \n",
       "9  Almost every day I sit down in a coffee shop i...   \n",
       "\n",
       "                                            filename  followers  \\\n",
       "0  3.The Two Minutes It Takes To Read This Will I...      27000   \n",
       "1  8.Dear Democrats, Read This If You Do Not Unde...      13400   \n",
       "2                           2.Fuck You Startup World       6200   \n",
       "3  1.History tells us what may happen next with B...      27000   \n",
       "4        10.My Bathroom Mirror Is Smarter Than Yours       7400   \n",
       "5               6.Let Me Remind You Fuckers Who I Am      12500   \n",
       "6         4.How it feels to learn JavaScript in 2016       8700   \n",
       "7  7.How Technology is Hijacking Your Mind — from...      15100   \n",
       "8  5.How a TV Sitcom Triggered the Downfall of We...       9800   \n",
       "9       9.What are people working on in coffee shops       2600   \n",
       "\n",
       "                                         description  claps  people_clapped  \\\n",
       "0  Writer. Strategist. For The Interested newslet...  25191           17953   \n",
       "1  Tech Entrepreneur. Journalist. Technologist. C...  10885            9981   \n",
       "2                                  Doing what I love  22661           17316   \n",
       "3  Writing about politics, history, and society. ...  18983           17092   \n",
       "4         Inevitable technology. Lately robots at X.  10353            9506   \n",
       "5  45th President of the United States, patriarch...  12081           11415   \n",
       "6                                      Web Engineer.  33715           18783   \n",
       "7  Co-founder, Center for Humane Technology // Ex...  21025           12638   \n",
       "8  I write a little bit of everything—short stori...  18489           15529   \n",
       "9  I teach adult beginners how to learn guitar in...  10395            9720   \n",
       "\n",
       "   min_read                                          high_text author_date  \\\n",
       "0         2                            Delete the word “that.”    Apr 2017   \n",
       "1         5  This is the problem with America today, the te...         NaN   \n",
       "2         5  You should celebrate any day that you don’t ha...         NaN   \n",
       "3         7  We need to find a way to bridge from our close...    Aug 2017   \n",
       "4         3  Maybe I’ll post a more detailed making-of with...         NaN   \n",
       "5         4  “Oh but what about your eeeemaaaaillls???” Shu...         NaN   \n",
       "6        13  I need to display data on a page, not perform ...    May 2017   \n",
       "7        16  We need our smartphones, notifications screens...    Jul 2017   \n",
       "8         6  I see Kim Kardashian’s ass at the top of CNN.c...    Sep 2017   \n",
       "9         5  It felt absolutely amazing to connect with all...         NaN   \n",
       "\n",
       "     ...        anger positivity       joy   disgust  surprise     trust  \\\n",
       "0    ...     0.203704   0.277778  0.092593  0.148148  0.037037  0.185185   \n",
       "1    ...     0.051502   0.253219  0.055794  0.021459  0.077253  0.111588   \n",
       "2    ...     0.064677   0.208955  0.079602  0.054726  0.014925  0.079602   \n",
       "3    ...     0.123746   0.140468  0.030100  0.068562  0.045151  0.073579   \n",
       "4    ...     0.008621   0.112069  0.025862  0.025862  0.000000  0.077586   \n",
       "5    ...     0.111111   0.234568  0.092593  0.086420  0.030864  0.104938   \n",
       "6    ...     0.061962   0.184165  0.044750  0.024096  0.020654  0.082616   \n",
       "7    ...     0.032487   0.183756  0.038579  0.011168  0.045685  0.108629   \n",
       "8    ...     0.081579   0.244737  0.078947  0.065789  0.063158  0.152632   \n",
       "9    ...     0.008929   0.276786  0.111607  0.004464  0.053571  0.107143   \n",
       "\n",
       "   anticipation   sadness  negative      fear  \n",
       "0      0.185185  0.166667  0.296296  0.185185  \n",
       "1      0.081545  0.051502  0.133047  0.060086  \n",
       "2      0.094527  0.039801  0.149254  0.064677  \n",
       "3      0.081940  0.096990  0.239130  0.133779  \n",
       "4      0.068966  0.017241  0.068966  0.025862  \n",
       "5      0.123457  0.061728  0.197531  0.104938  \n",
       "6      0.087780  0.020654  0.061962  0.065404  \n",
       "7      0.073096  0.037563  0.102538  0.050761  \n",
       "8      0.121053  0.073684  0.184211  0.100000  \n",
       "9      0.116071  0.022321  0.035714  0.017857  \n",
       "\n",
       "[10 rows x 22 columns]"
      ]
     },
     "execution_count": 51,
     "metadata": {},
     "output_type": "execute_result"
    }
   ],
   "source": [
    "df.head(10)"
   ]
  },
  {
   "cell_type": "code",
   "execution_count": 17,
   "metadata": {},
   "outputs": [
    {
     "data": {
      "text/plain": [
       "<matplotlib.axes._subplots.AxesSubplot at 0x116dcb6d8>"
      ]
     },
     "execution_count": 17,
     "metadata": {},
     "output_type": "execute_result"
    },
    {
     "data": {
      "image/png": "[encoded data removed]",
      "text/plain": [
       "<matplotlib.figure.Figure at 0x10d15b160>"
      ]
     },
     "metadata": {},
     "output_type": "display_data"
    }
   ],
   "source": [
    "df.plot(x='positivity', y='anger', kind='scatter')"
   ]
  },
  {
   "cell_type": "code",
   "execution_count": 18,
   "metadata": {},
   "outputs": [
    {
     "data": {
      "text/plain": [
       "<matplotlib.axes._subplots.AxesSubplot at 0x1170e09b0>"
      ]
     },
     "execution_count": 18,
     "metadata": {},
     "output_type": "execute_result"
    },
    {
     "data": {
      "image/png": "[encoded data removed]",
      "text/plain": [
       "<matplotlib.figure.Figure at 0x10bccee48>"
      ]
     },
     "metadata": {},
     "output_type": "display_data"
    }
   ],
   "source": [
    "df.plot(x='positivity', y='disgust', kind='scatter')"
   ]
  },
  {
   "cell_type": "code",
   "execution_count": 50,
   "metadata": {},
   "outputs": [
    {
     "data": {
      "text/plain": [
       "<matplotlib.axes._subplots.AxesSubplot at 0x1199a4470>"
      ]
     },
     "execution_count": 50,
     "metadata": {},
     "output_type": "execute_result"
    },
    {
     "data": {
      "image/png": "[encoded data removed]",
      "text/plain": [
       "<matplotlib.figure.Figure at 0x119070c18>"
      ]
     },
     "metadata": {},
     "output_type": "display_data"
    }
   ],
   "source": [
    "df.plot(x='claps', y='trust', kind='barh')"
   ]
  },
  {
   "cell_type": "code",
   "execution_count": 43,
   "metadata": {},
   "outputs": [
    {
     "data": {
      "text/plain": [
       "<matplotlib.axes._subplots.AxesSubplot at 0x119351f28>"
      ]
     },
     "execution_count": 43,
     "metadata": {},
     "output_type": "execute_result"
    },
    {
     "data": {
      "image/png": "[encoded data removed]",
      "text/plain": [
       "<matplotlib.figure.Figure at 0x119877b70>"
      ]
     },
     "metadata": {},
     "output_type": "display_data"
    }
   ],
   "source": [
    "df.groupby('author')['anger'].sum().sort_values(ascending = False).plot(kind='bar')"
   ]
  },
  {
   "cell_type": "code",
   "execution_count": 44,
   "metadata": {},
   "outputs": [
    {
     "data": {
      "text/plain": [
       "<matplotlib.axes._subplots.AxesSubplot at 0x119391a20>"
      ]
     },
     "execution_count": 44,
     "metadata": {},
     "output_type": "execute_result"
    },
    {
     "data": {
      "image/png": "[encoded data removed]",
      "text/plain": [
       "<matplotlib.figure.Figure at 0x110c35b70>"
      ]
     },
     "metadata": {},
     "output_type": "display_data"
    }
   ],
   "source": [
    "df.groupby('min_read')['claps'].sum().sort_values(ascending = False).plot(kind='bar')"
   ]
  },
  {
   "cell_type": "code",
   "execution_count": 20,
   "metadata": {},
   "outputs": [
    {
     "data": {
      "text/plain": [
       "<matplotlib.axes._subplots.AxesSubplot at 0x117240978>"
      ]
     },
     "execution_count": 20,
     "metadata": {},
     "output_type": "execute_result"
    },
    {
     "data": {
      "image/png": "[encoded data removed]",
      "text/plain": [
       "<matplotlib.figure.Figure at 0x1172a9828>"
      ]
     },
     "metadata": {},
     "output_type": "display_data"
    }
   ],
   "source": [
    "df.plot(x='positivity', y='sadness', kind='scatter')"
   ]
  },
  {
   "cell_type": "code",
   "execution_count": 53,
   "metadata": {},
   "outputs": [
    {
     "data": {
      "text/plain": [
       "<matplotlib.axes._subplots.AxesSubplot at 0x119bd5be0>"
      ]
     },
     "execution_count": 53,
     "metadata": {},
     "output_type": "execute_result"
    },
    {
     "data": {
      "image/png": "[encoded data removed]",
      "text/plain": [
       "<matplotlib.figure.Figure at 0x119be1be0>"
      ]
     },
     "metadata": {},
     "output_type": "display_data"
    }
   ],
   "source": [
    "df.groupby('claps')['followers'].sum().sort_values(ascending = False).plot(kind='bar')"
   ]
  },
  {
   "cell_type": "code",
   "execution_count": 23,
   "metadata": {},
   "outputs": [
    {
     "data": {
      "text/plain": [
       "<matplotlib.axes._subplots.AxesSubplot at 0x117551198>"
      ]
     },
     "execution_count": 23,
     "metadata": {},
     "output_type": "execute_result"
    },
    {
     "data": {
      "image/png": "[encoded data removed]",
      "text/plain": [
       "<matplotlib.figure.Figure at 0x11726eb00>"
      ]
     },
     "metadata": {},
     "output_type": "display_data"
    }
   ],
   "source": [
    "df.plot(x='positivity', y='trust', kind='scatter')"
   ]
  },
  {
   "cell_type": "code",
   "execution_count": 24,
   "metadata": {},
   "outputs": [
    {
     "data": {
      "text/plain": [
       "<matplotlib.axes._subplots.AxesSubplot at 0x11787b7f0>"
      ]
     },
     "execution_count": 24,
     "metadata": {},
     "output_type": "execute_result"
    },
    {
     "data": {
      "image/png": "[encoded data removed]",
      "text/plain": [
       "<matplotlib.figure.Figure at 0x1175117b8>"
      ]
     },
     "metadata": {},
     "output_type": "display_data"
    }
   ],
   "source": [
    "df.plot(x='positivity', y='anticipation', kind='scatter')"
   ]
  },
  {
   "cell_type": "code",
   "execution_count": 25,
   "metadata": {},
   "outputs": [
    {
     "data": {
      "text/plain": [
       "<matplotlib.axes._subplots.AxesSubplot at 0x1179811d0>"
      ]
     },
     "execution_count": 25,
     "metadata": {},
     "output_type": "execute_result"
    },
    {
     "data": {
      "image/png": "[encoded data removed]",
      "text/plain": [
       "<matplotlib.figure.Figure at 0x11799c160>"
      ]
     },
     "metadata": {},
     "output_type": "display_data"
    }
   ],
   "source": [
    "df.plot(x='surprise', y='anger', kind='scatter')"
   ]
  },
  {
   "cell_type": "code",
   "execution_count": 26,
   "metadata": {},
   "outputs": [
    {
     "data": {
      "text/plain": [
       "<matplotlib.axes._subplots.AxesSubplot at 0x11786af60>"
      ]
     },
     "execution_count": 26,
     "metadata": {},
     "output_type": "execute_result"
    },
    {
     "data": {
      "image/png": "[encoded data removed]",
      "text/plain": [
       "<matplotlib.figure.Figure at 0x11754e6d8>"
      ]
     },
     "metadata": {},
     "output_type": "display_data"
    }
   ],
   "source": [
    "df.plot(x='negative', y='sadness', kind='scatter')"
   ]
  },
  {
   "cell_type": "code",
   "execution_count": 30,
   "metadata": {
    "collapsed": true
   },
   "outputs": [],
   "source": [
    "content = df['content']"
   ]
  },
  {
   "cell_type": "code",
   "execution_count": 34,
   "metadata": {},
   "outputs": [
    {
     "data": {
      "image/png": "[encoded data removed]",
      "text/plain": [
       "<matplotlib.figure.Figure at 0x110c322e8>"
      ]
     },
     "metadata": {},
     "output_type": "display_data"
    },
    {
     "data": {
      "text/plain": [
       "people         0.188162\n",
       "don            0.117296\n",
       "time           0.102387\n",
       "sentence       0.100487\n",
       "work           0.079408\n",
       "word           0.078427\n",
       "world          0.077014\n",
       "read           0.076115\n",
       "writing        0.075686\n",
       "make           0.074412\n",
       "end            0.072761\n",
       "trump          0.071569\n",
       "good           0.063662\n",
       "social         0.058860\n",
       "short          0.057228\n",
       "media          0.056404\n",
       "shit           0.056315\n",
       "news           0.055406\n",
       "day            0.051153\n",
       "learn          0.049005\n",
       "stop           0.044876\n",
       "avoid          0.043118\n",
       "mirror         0.043103\n",
       "post           0.043073\n",
       "words          0.042714\n",
       "space          0.042065\n",
       "white          0.040143\n",
       "experiences    0.039669\n",
       "code           0.039428\n",
       "coffee         0.039361\n",
       "lying          0.038709\n",
       "things         0.036826\n",
       "data           0.035439\n",
       "back           0.034809\n",
       "country        0.034739\n",
       "fetch          0.034423\n",
       "year           0.033817\n",
       "reality        0.033727\n",
       "point          0.033207\n",
       "display        0.032732\n",
       "writer         0.031911\n",
       "left           0.031385\n",
       "react          0.030981\n",
       "bit            0.030585\n",
       "idea           0.030558\n",
       "spent          0.030103\n",
       "war            0.030059\n",
       "reading        0.029960\n",
       "part           0.029516\n",
       "working        0.029480\n",
       "dtype: float64"
      ]
     },
     "execution_count": 34,
     "metadata": {},
     "output_type": "execute_result"
    }
   ],
   "source": [
    "from wordcloud import WordCloud, STOPWORDS\n",
    "import matplotlib.pyplot as plt\n",
    "\n",
    "wordcloud = WordCloud(\n",
    "                         stopwords=STOPWORDS,\n",
    "                         background_color='white',\n",
    "                         width=1200,\n",
    "                         height=1000).generate(content[2])\n",
    "\n",
    "plt.imshow(wordcloud)\n",
    "plt.axis('off')\n",
    "plt.show()\n",
    " \n",
    "wordcount_df.sum().sort_values(ascending=False).head(50)"
   ]
  },
  {
   "cell_type": "code",
   "execution_count": 55,
   "metadata": {
    "collapsed": true
   },
   "outputs": [],
   "source": [
    "df.to_csv('medium_emotions.csv', index = False, encoding='utf-8')"
   ]
  },
  {
   "cell_type": "code",
   "execution_count": 35,
   "metadata": {},
   "outputs": [],
   "source": [
    "#day = df['date'].str.extract('(\\d\\d\\d\\d-\\d\\d?-\\d\\d)')\n",
    "#df['day'] = df['date'].str.extract('(\\d\\d\\d\\d-\\d\\d?-\\d\\d)')\n",
    "#df.head()"
   ]
  },
  {
   "cell_type": "code",
   "execution_count": 36,
   "metadata": {},
   "outputs": [],
   "source": [
    "#df.groupby('day')['anger'].sum().sort_values(ascending = False).plot(kind='bar')"
   ]
  },
  {
   "cell_type": "code",
   "execution_count": 37,
   "metadata": {},
   "outputs": [],
   "source": [
    "#df.groupby('day')['positivity'].sum().sort_values(ascending = False).plot(kind='bar')"
   ]
  },
  {
   "cell_type": "code",
   "execution_count": null,
   "metadata": {
    "collapsed": true
   },
   "outputs": [],
   "source": []
  }
 ],
 "metadata": {
  "kernelspec": {
   "display_name": "Python 3",
   "language": "python",
   "name": "python3"
  },
  "language_info": {
   "codemirror_mode": {
    "name": "ipython",
    "version": 3
   },
   "file_extension": ".py",
   "mimetype": "text/x-python",
   "name": "python",
   "nbconvert_exporter": "python",
   "pygments_lexer": "ipython3",
   "version": "3.6.2"
  }
 },
 "nbformat": 4,
 "nbformat_minor": 2
}
