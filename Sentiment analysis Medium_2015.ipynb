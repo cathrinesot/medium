{
 "cells": [
  {
   "cell_type": "code",
   "execution_count": 56,
   "metadata": {
    "collapsed": true
   },
   "outputs": [],
   "source": [
    "import pandas as pd\n",
    "%matplotlib inline\n",
    "from dirtyclean import clean\n",
    "import numpy as np\n",
    "import glob"
   ]
  },
  {
   "cell_type": "markdown",
   "metadata": {},
   "source": [
    "# Reading in the EmoLex\n",
    "\n",
    "I'm just copying this from the other notebook! It's the one at the very bottom that does a lot of reshaping. I think it's the easiest to work with."
   ]
  },
  {
   "cell_type": "code",
   "execution_count": 57,
   "metadata": {},
   "outputs": [
    {
     "data": {
      "text/html": [
       "<div>\n",
       "<style>\n",
       "    .dataframe thead tr:only-child th {\n",
       "        text-align: right;\n",
       "    }\n",
       "\n",
       "    .dataframe thead th {\n",
       "        text-align: left;\n",
       "    }\n",
       "\n",
       "    .dataframe tbody tr th {\n",
       "        vertical-align: top;\n",
       "    }\n",
       "</style>\n",
       "<table border=\"1\" class=\"dataframe\">\n",
       "  <thead>\n",
       "    <tr style=\"text-align: right;\">\n",
       "      <th>emotion</th>\n",
       "      <th>word</th>\n",
       "      <th>anger</th>\n",
       "      <th>anticipation</th>\n",
       "      <th>disgust</th>\n",
       "      <th>fear</th>\n",
       "      <th>joy</th>\n",
       "      <th>negative</th>\n",
       "      <th>positive</th>\n",
       "      <th>sadness</th>\n",
       "      <th>surprise</th>\n",
       "      <th>trust</th>\n",
       "    </tr>\n",
       "  </thead>\n",
       "  <tbody>\n",
       "    <tr>\n",
       "      <th>0</th>\n",
       "      <td>aback</td>\n",
       "      <td>0</td>\n",
       "      <td>0</td>\n",
       "      <td>0</td>\n",
       "      <td>0</td>\n",
       "      <td>0</td>\n",
       "      <td>0</td>\n",
       "      <td>0</td>\n",
       "      <td>0</td>\n",
       "      <td>0</td>\n",
       "      <td>0</td>\n",
       "    </tr>\n",
       "    <tr>\n",
       "      <th>1</th>\n",
       "      <td>abacus</td>\n",
       "      <td>0</td>\n",
       "      <td>0</td>\n",
       "      <td>0</td>\n",
       "      <td>0</td>\n",
       "      <td>0</td>\n",
       "      <td>0</td>\n",
       "      <td>0</td>\n",
       "      <td>0</td>\n",
       "      <td>0</td>\n",
       "      <td>1</td>\n",
       "    </tr>\n",
       "    <tr>\n",
       "      <th>2</th>\n",
       "      <td>abandon</td>\n",
       "      <td>0</td>\n",
       "      <td>0</td>\n",
       "      <td>0</td>\n",
       "      <td>1</td>\n",
       "      <td>0</td>\n",
       "      <td>1</td>\n",
       "      <td>0</td>\n",
       "      <td>1</td>\n",
       "      <td>0</td>\n",
       "      <td>0</td>\n",
       "    </tr>\n",
       "    <tr>\n",
       "      <th>3</th>\n",
       "      <td>abandoned</td>\n",
       "      <td>1</td>\n",
       "      <td>0</td>\n",
       "      <td>0</td>\n",
       "      <td>1</td>\n",
       "      <td>0</td>\n",
       "      <td>1</td>\n",
       "      <td>0</td>\n",
       "      <td>1</td>\n",
       "      <td>0</td>\n",
       "      <td>0</td>\n",
       "    </tr>\n",
       "    <tr>\n",
       "      <th>4</th>\n",
       "      <td>abandonment</td>\n",
       "      <td>1</td>\n",
       "      <td>0</td>\n",
       "      <td>0</td>\n",
       "      <td>1</td>\n",
       "      <td>0</td>\n",
       "      <td>1</td>\n",
       "      <td>0</td>\n",
       "      <td>1</td>\n",
       "      <td>1</td>\n",
       "      <td>0</td>\n",
       "    </tr>\n",
       "  </tbody>\n",
       "</table>\n",
       "</div>"
      ],
      "text/plain": [
       "emotion         word  anger  anticipation  disgust  fear  joy  negative  \\\n",
       "0              aback      0             0        0     0    0         0   \n",
       "1             abacus      0             0        0     0    0         0   \n",
       "2            abandon      0             0        0     1    0         1   \n",
       "3          abandoned      1             0        0     1    0         1   \n",
       "4        abandonment      1             0        0     1    0         1   \n",
       "\n",
       "emotion  positive  sadness  surprise  trust  \n",
       "0               0        0         0      0  \n",
       "1               0        0         0      1  \n",
       "2               0        1         0      0  \n",
       "3               0        1         0      0  \n",
       "4               0        1         1      0  "
      ]
     },
     "execution_count": 57,
     "metadata": {},
     "output_type": "execute_result"
    }
   ],
   "source": [
    "filepath = \"NRC-Emotion-Lexicon-v0.92/NRC-emotion-lexicon-wordlevel-alphabetized-v0.92.txt\"\n",
    "emolex_df = pd.read_csv(filepath,  names=[\"word\", \"emotion\", \"association\"], skiprows=45, sep='\\t')\n",
    "emolex_df = emolex_df.pivot(index='word', columns='emotion', values='association').reset_index()\n",
    "emolex_df.head()"
   ]
  },
  {
   "cell_type": "markdown",
   "metadata": {},
   "source": [
    "## Reading in Medium articles\n",
    "\n"
   ]
  },
  {
   "cell_type": "code",
   "execution_count": 58,
   "metadata": {
    "collapsed": true
   },
   "outputs": [],
   "source": [
    "df = pd.read_csv(\"medium_2015.csv\", encoding = \"ISO-8859-1\")"
   ]
  },
  {
   "cell_type": "code",
   "execution_count": 59,
   "metadata": {},
   "outputs": [
    {
     "data": {
      "text/html": [
       "<div>\n",
       "<style>\n",
       "    .dataframe thead tr:only-child th {\n",
       "        text-align: right;\n",
       "    }\n",
       "\n",
       "    .dataframe thead th {\n",
       "        text-align: left;\n",
       "    }\n",
       "\n",
       "    .dataframe tbody tr th {\n",
       "        vertical-align: top;\n",
       "    }\n",
       "</style>\n",
       "<table border=\"1\" class=\"dataframe\">\n",
       "  <thead>\n",
       "    <tr style=\"text-align: right;\">\n",
       "      <th></th>\n",
       "      <th>link</th>\n",
       "      <th>min_read</th>\n",
       "      <th>filename</th>\n",
       "      <th>author</th>\n",
       "      <th>publications</th>\n",
       "      <th>description</th>\n",
       "      <th>date</th>\n",
       "      <th>followers</th>\n",
       "      <th>claps</th>\n",
       "      <th>people_clapped</th>\n",
       "      <th>high_text</th>\n",
       "      <th>images</th>\n",
       "      <th>body</th>\n",
       "      <th>tag</th>\n",
       "    </tr>\n",
       "  </thead>\n",
       "  <tbody>\n",
       "    <tr>\n",
       "      <th>0</th>\n",
       "      <td>https://www.google.com/url?q=https://m.signalv...</td>\n",
       "      <td>2</td>\n",
       "      <td>PRESS RELEASE: BASECAMP VALUATION TOPS $100 BI...</td>\n",
       "      <td>Jason Fried</td>\n",
       "      <td>Signal v. Noise</td>\n",
       "      <td>Founder &amp; CEO at Basecamp. Co-author of Gettin...</td>\n",
       "      <td>1-Dec-15</td>\n",
       "      <td>205000</td>\n",
       "      <td>6222</td>\n",
       "      <td>5328</td>\n",
       "      <td>In order to determine the valuation of compani...</td>\n",
       "      <td>Yes</td>\n",
       "      <td>Basecamp is now a $100 billion dollar company,...</td>\n",
       "      <td>Startup</td>\n",
       "    </tr>\n",
       "    <tr>\n",
       "      <th>1</th>\n",
       "      <td>https://medium.com/@damjancvetkovdimitrov/thes...</td>\n",
       "      <td>5</td>\n",
       "      <td>These photos are why IÕm trapped in Tokyo fore...</td>\n",
       "      <td>Damjan Cvetkov-Dimitrov</td>\n",
       "      <td>NaN</td>\n",
       "      <td>I never anticipate ants.. professionally. I al...</td>\n",
       "      <td>25-Nov-15</td>\n",
       "      <td>2200</td>\n",
       "      <td>6340</td>\n",
       "      <td>5607</td>\n",
       "      <td>NaN</td>\n",
       "      <td>Yes</td>\n",
       "      <td>Tokyo, holy excrements from small undefined cr...</td>\n",
       "      <td>Sci-Fy</td>\n",
       "    </tr>\n",
       "    <tr>\n",
       "      <th>2</th>\n",
       "      <td>https://medium.com/the-year-of-the-looking-gla...</td>\n",
       "      <td>2</td>\n",
       "      <td>Average Manager vs. Great Manager</td>\n",
       "      <td>Julie Zhuo</td>\n",
       "      <td>The Year of the Looking Glass</td>\n",
       "      <td>Product design VP</td>\n",
       "      <td>11-Aug-15</td>\n",
       "      <td>179000</td>\n",
       "      <td>8700</td>\n",
       "      <td>7034</td>\n",
       "      <td>NaN</td>\n",
       "      <td>Yes</td>\n",
       "      <td>Sketches</td>\n",
       "      <td>Management</td>\n",
       "    </tr>\n",
       "    <tr>\n",
       "      <th>3</th>\n",
       "      <td>https://medium.com/interactive-mind/mobile-201...</td>\n",
       "      <td>7</td>\n",
       "      <td>Mobile:2015 UI/UX Trends</td>\n",
       "      <td>Onur Oral</td>\n",
       "      <td>Interactive Mind</td>\n",
       "      <td>Designer of things.</td>\n",
       "      <td>31-Jul-15</td>\n",
       "      <td>2300</td>\n",
       "      <td>4814</td>\n",
       "      <td>4766</td>\n",
       "      <td>Apps which have well-done micro-interactions c...</td>\n",
       "      <td>Yes</td>\n",
       "      <td>Whether on an app screen, a web browser, or a ...</td>\n",
       "      <td>NaN</td>\n",
       "    </tr>\n",
       "    <tr>\n",
       "      <th>4</th>\n",
       "      <td>https://medium.com/firm-narrative/want-a-bette...</td>\n",
       "      <td>5</td>\n",
       "      <td>Want a Better Pitch? Watch This.</td>\n",
       "      <td>Andy Raskin</td>\n",
       "      <td>NaN</td>\n",
       "      <td>Helping leaders tell strategic stories.</td>\n",
       "      <td>NaN</td>\n",
       "      <td>20000</td>\n",
       "      <td>7447</td>\n",
       "      <td>6226</td>\n",
       "      <td>ÒIt lacksÊoomph,Ó she said. ÒThe information i...</td>\n",
       "      <td>Yes</td>\n",
       "      <td>Three weeks ago, the CMO of a San Francisco st...</td>\n",
       "      <td>Startup</td>\n",
       "    </tr>\n",
       "  </tbody>\n",
       "</table>\n",
       "</div>"
      ],
      "text/plain": [
       "                                                link  min_read  \\\n",
       "0  https://www.google.com/url?q=https://m.signalv...         2   \n",
       "1  https://medium.com/@damjancvetkovdimitrov/thes...         5   \n",
       "2  https://medium.com/the-year-of-the-looking-gla...         2   \n",
       "3  https://medium.com/interactive-mind/mobile-201...         7   \n",
       "4  https://medium.com/firm-narrative/want-a-bette...         5   \n",
       "\n",
       "                                            filename                   author  \\\n",
       "0  PRESS RELEASE: BASECAMP VALUATION TOPS $100 BI...              Jason Fried   \n",
       "1  These photos are why IÕm trapped in Tokyo fore...  Damjan Cvetkov-Dimitrov   \n",
       "2                  Average Manager vs. Great Manager               Julie Zhuo   \n",
       "3                           Mobile:2015 UI/UX Trends                Onur Oral   \n",
       "4                   Want a Better Pitch? Watch This.              Andy Raskin   \n",
       "\n",
       "                    publications  \\\n",
       "0                Signal v. Noise   \n",
       "1                            NaN   \n",
       "2  The Year of the Looking Glass   \n",
       "3               Interactive Mind   \n",
       "4                            NaN   \n",
       "\n",
       "                                         description       date  followers  \\\n",
       "0  Founder & CEO at Basecamp. Co-author of Gettin...   1-Dec-15     205000   \n",
       "1  I never anticipate ants.. professionally. I al...  25-Nov-15       2200   \n",
       "2                                  Product design VP  11-Aug-15     179000   \n",
       "3                                Designer of things.  31-Jul-15       2300   \n",
       "4            Helping leaders tell strategic stories.        NaN      20000   \n",
       "\n",
       "   claps  people_clapped                                          high_text  \\\n",
       "0   6222            5328  In order to determine the valuation of compani...   \n",
       "1   6340            5607                                                NaN   \n",
       "2   8700            7034                                                NaN   \n",
       "3   4814            4766  Apps which have well-done micro-interactions c...   \n",
       "4   7447            6226  ÒIt lacksÊoomph,Ó she said. ÒThe information i...   \n",
       "\n",
       "  images                                               body         tag  \n",
       "0    Yes  Basecamp is now a $100 billion dollar company,...     Startup  \n",
       "1    Yes  Tokyo, holy excrements from small undefined cr...      Sci-Fy  \n",
       "2    Yes                                           Sketches  Management  \n",
       "3    Yes  Whether on an app screen, a web browser, or a ...         NaN  \n",
       "4    Yes  Three weeks ago, the CMO of a San Francisco st...     Startup  "
      ]
     },
     "execution_count": 59,
     "metadata": {},
     "output_type": "execute_result"
    }
   ],
   "source": [
    "df.head()"
   ]
  },
  {
   "cell_type": "code",
   "execution_count": 60,
   "metadata": {
    "collapsed": true
   },
   "outputs": [],
   "source": [
    "df = df.rename(columns={'body': 'content'})"
   ]
  },
  {
   "cell_type": "code",
   "execution_count": 61,
   "metadata": {
    "collapsed": true
   },
   "outputs": [],
   "source": [
    "df.content = df.content.apply(str)"
   ]
  },
  {
   "cell_type": "code",
   "execution_count": 62,
   "metadata": {
    "collapsed": true
   },
   "outputs": [],
   "source": [
    "df[\"content\"] = df[\"content\"].apply(clean)"
   ]
  },
  {
   "cell_type": "code",
   "execution_count": 63,
   "metadata": {},
   "outputs": [
    {
     "data": {
      "text/plain": [
       "(15, 14)"
      ]
     },
     "execution_count": 63,
     "metadata": {},
     "output_type": "execute_result"
    }
   ],
   "source": [
    "df.shape"
   ]
  },
  {
   "cell_type": "code",
   "execution_count": 64,
   "metadata": {},
   "outputs": [
    {
     "data": {
      "text/html": [
       "<div>\n",
       "<style>\n",
       "    .dataframe thead tr:only-child th {\n",
       "        text-align: right;\n",
       "    }\n",
       "\n",
       "    .dataframe thead th {\n",
       "        text-align: left;\n",
       "    }\n",
       "\n",
       "    .dataframe tbody tr th {\n",
       "        vertical-align: top;\n",
       "    }\n",
       "</style>\n",
       "<table border=\"1\" class=\"dataframe\">\n",
       "  <thead>\n",
       "    <tr style=\"text-align: right;\">\n",
       "      <th></th>\n",
       "      <th>link</th>\n",
       "      <th>min_read</th>\n",
       "      <th>filename</th>\n",
       "      <th>author</th>\n",
       "      <th>publications</th>\n",
       "      <th>description</th>\n",
       "      <th>date</th>\n",
       "      <th>followers</th>\n",
       "      <th>claps</th>\n",
       "      <th>people_clapped</th>\n",
       "      <th>high_text</th>\n",
       "      <th>images</th>\n",
       "      <th>content</th>\n",
       "      <th>tag</th>\n",
       "    </tr>\n",
       "  </thead>\n",
       "  <tbody>\n",
       "    <tr>\n",
       "      <th>0</th>\n",
       "      <td>https://www.google.com/url?q=https://m.signalv...</td>\n",
       "      <td>2</td>\n",
       "      <td>PRESS RELEASE: BASECAMP VALUATION TOPS $100 BI...</td>\n",
       "      <td>Jason Fried</td>\n",
       "      <td>Signal v. Noise</td>\n",
       "      <td>Founder &amp; CEO at Basecamp. Co-author of Gettin...</td>\n",
       "      <td>1-Dec-15</td>\n",
       "      <td>205000</td>\n",
       "      <td>6222</td>\n",
       "      <td>5328</td>\n",
       "      <td>In order to determine the valuation of compani...</td>\n",
       "      <td>Yes</td>\n",
       "      <td>Basecamp is now a billion dollar company accor...</td>\n",
       "      <td>Startup</td>\n",
       "    </tr>\n",
       "    <tr>\n",
       "      <th>1</th>\n",
       "      <td>https://medium.com/@damjancvetkovdimitrov/thes...</td>\n",
       "      <td>5</td>\n",
       "      <td>These photos are why IÕm trapped in Tokyo fore...</td>\n",
       "      <td>Damjan Cvetkov-Dimitrov</td>\n",
       "      <td>NaN</td>\n",
       "      <td>I never anticipate ants.. professionally. I al...</td>\n",
       "      <td>25-Nov-15</td>\n",
       "      <td>2200</td>\n",
       "      <td>6340</td>\n",
       "      <td>5607</td>\n",
       "      <td>NaN</td>\n",
       "      <td>Yes</td>\n",
       "      <td>Tokyo holy excrements from small undefined cre...</td>\n",
       "      <td>Sci-Fy</td>\n",
       "    </tr>\n",
       "    <tr>\n",
       "      <th>2</th>\n",
       "      <td>https://medium.com/the-year-of-the-looking-gla...</td>\n",
       "      <td>2</td>\n",
       "      <td>Average Manager vs. Great Manager</td>\n",
       "      <td>Julie Zhuo</td>\n",
       "      <td>The Year of the Looking Glass</td>\n",
       "      <td>Product design VP</td>\n",
       "      <td>11-Aug-15</td>\n",
       "      <td>179000</td>\n",
       "      <td>8700</td>\n",
       "      <td>7034</td>\n",
       "      <td>NaN</td>\n",
       "      <td>Yes</td>\n",
       "      <td>Sketches</td>\n",
       "      <td>Management</td>\n",
       "    </tr>\n",
       "    <tr>\n",
       "      <th>3</th>\n",
       "      <td>https://medium.com/interactive-mind/mobile-201...</td>\n",
       "      <td>7</td>\n",
       "      <td>Mobile:2015 UI/UX Trends</td>\n",
       "      <td>Onur Oral</td>\n",
       "      <td>Interactive Mind</td>\n",
       "      <td>Designer of things.</td>\n",
       "      <td>31-Jul-15</td>\n",
       "      <td>2300</td>\n",
       "      <td>4814</td>\n",
       "      <td>4766</td>\n",
       "      <td>Apps which have well-done micro-interactions c...</td>\n",
       "      <td>Yes</td>\n",
       "      <td>Whether on an app screen a web browser or a we...</td>\n",
       "      <td>NaN</td>\n",
       "    </tr>\n",
       "    <tr>\n",
       "      <th>4</th>\n",
       "      <td>https://medium.com/firm-narrative/want-a-bette...</td>\n",
       "      <td>5</td>\n",
       "      <td>Want a Better Pitch? Watch This.</td>\n",
       "      <td>Andy Raskin</td>\n",
       "      <td>NaN</td>\n",
       "      <td>Helping leaders tell strategic stories.</td>\n",
       "      <td>NaN</td>\n",
       "      <td>20000</td>\n",
       "      <td>7447</td>\n",
       "      <td>6226</td>\n",
       "      <td>ÒIt lacksÊoomph,Ó she said. ÒThe information i...</td>\n",
       "      <td>Yes</td>\n",
       "      <td>Three weeks ago the CMO of a San Francisco sta...</td>\n",
       "      <td>Startup</td>\n",
       "    </tr>\n",
       "  </tbody>\n",
       "</table>\n",
       "</div>"
      ],
      "text/plain": [
       "                                                link  min_read  \\\n",
       "0  https://www.google.com/url?q=https://m.signalv...         2   \n",
       "1  https://medium.com/@damjancvetkovdimitrov/thes...         5   \n",
       "2  https://medium.com/the-year-of-the-looking-gla...         2   \n",
       "3  https://medium.com/interactive-mind/mobile-201...         7   \n",
       "4  https://medium.com/firm-narrative/want-a-bette...         5   \n",
       "\n",
       "                                            filename                   author  \\\n",
       "0  PRESS RELEASE: BASECAMP VALUATION TOPS $100 BI...              Jason Fried   \n",
       "1  These photos are why IÕm trapped in Tokyo fore...  Damjan Cvetkov-Dimitrov   \n",
       "2                  Average Manager vs. Great Manager               Julie Zhuo   \n",
       "3                           Mobile:2015 UI/UX Trends                Onur Oral   \n",
       "4                   Want a Better Pitch? Watch This.              Andy Raskin   \n",
       "\n",
       "                    publications  \\\n",
       "0                Signal v. Noise   \n",
       "1                            NaN   \n",
       "2  The Year of the Looking Glass   \n",
       "3               Interactive Mind   \n",
       "4                            NaN   \n",
       "\n",
       "                                         description       date  followers  \\\n",
       "0  Founder & CEO at Basecamp. Co-author of Gettin...   1-Dec-15     205000   \n",
       "1  I never anticipate ants.. professionally. I al...  25-Nov-15       2200   \n",
       "2                                  Product design VP  11-Aug-15     179000   \n",
       "3                                Designer of things.  31-Jul-15       2300   \n",
       "4            Helping leaders tell strategic stories.        NaN      20000   \n",
       "\n",
       "   claps  people_clapped                                          high_text  \\\n",
       "0   6222            5328  In order to determine the valuation of compani...   \n",
       "1   6340            5607                                                NaN   \n",
       "2   8700            7034                                                NaN   \n",
       "3   4814            4766  Apps which have well-done micro-interactions c...   \n",
       "4   7447            6226  ÒIt lacksÊoomph,Ó she said. ÒThe information i...   \n",
       "\n",
       "  images                                            content         tag  \n",
       "0    Yes  Basecamp is now a billion dollar company accor...     Startup  \n",
       "1    Yes  Tokyo holy excrements from small undefined cre...      Sci-Fy  \n",
       "2    Yes                                           Sketches  Management  \n",
       "3    Yes  Whether on an app screen a web browser or a we...         NaN  \n",
       "4    Yes  Three weeks ago the CMO of a San Francisco sta...     Startup  "
      ]
     },
     "execution_count": 64,
     "metadata": {},
     "output_type": "execute_result"
    }
   ],
   "source": [
    "df.head()"
   ]
  },
  {
   "cell_type": "code",
   "execution_count": 65,
   "metadata": {},
   "outputs": [
    {
     "data": {
      "text/plain": [
       "0      aback\n",
       "1     abacus\n",
       "2    abandon\n",
       "Name: word, dtype: object"
      ]
     },
     "execution_count": 65,
     "metadata": {},
     "output_type": "execute_result"
    }
   ],
   "source": [
    "emolex_df['word'].head(3)"
   ]
  },
  {
   "cell_type": "code",
   "execution_count": 66,
   "metadata": {},
   "outputs": [
    {
     "data": {
      "text/html": [
       "<div>\n",
       "<style>\n",
       "    .dataframe thead tr:only-child th {\n",
       "        text-align: right;\n",
       "    }\n",
       "\n",
       "    .dataframe thead th {\n",
       "        text-align: left;\n",
       "    }\n",
       "\n",
       "    .dataframe tbody tr th {\n",
       "        vertical-align: top;\n",
       "    }\n",
       "</style>\n",
       "<table border=\"1\" class=\"dataframe\">\n",
       "  <thead>\n",
       "    <tr style=\"text-align: right;\">\n",
       "      <th></th>\n",
       "      <th>aback</th>\n",
       "      <th>abacus</th>\n",
       "      <th>abandon</th>\n",
       "      <th>abandoned</th>\n",
       "      <th>abandonment</th>\n",
       "      <th>abate</th>\n",
       "      <th>abatement</th>\n",
       "      <th>abba</th>\n",
       "      <th>abbot</th>\n",
       "      <th>abbreviate</th>\n",
       "      <th>...</th>\n",
       "      <th>zephyr</th>\n",
       "      <th>zeppelin</th>\n",
       "      <th>zest</th>\n",
       "      <th>zip</th>\n",
       "      <th>zodiac</th>\n",
       "      <th>zone</th>\n",
       "      <th>zoo</th>\n",
       "      <th>zoological</th>\n",
       "      <th>zoology</th>\n",
       "      <th>zoom</th>\n",
       "    </tr>\n",
       "  </thead>\n",
       "  <tbody>\n",
       "    <tr>\n",
       "      <th>0</th>\n",
       "      <td>0.0</td>\n",
       "      <td>0.0</td>\n",
       "      <td>0.0</td>\n",
       "      <td>0.0</td>\n",
       "      <td>0.0</td>\n",
       "      <td>0.0</td>\n",
       "      <td>0.0</td>\n",
       "      <td>0.0</td>\n",
       "      <td>0.0</td>\n",
       "      <td>0.0</td>\n",
       "      <td>...</td>\n",
       "      <td>0.0</td>\n",
       "      <td>0.0</td>\n",
       "      <td>0.0</td>\n",
       "      <td>0.0</td>\n",
       "      <td>0.0</td>\n",
       "      <td>0.0</td>\n",
       "      <td>0.0</td>\n",
       "      <td>0.0</td>\n",
       "      <td>0.0</td>\n",
       "      <td>0.000000</td>\n",
       "    </tr>\n",
       "    <tr>\n",
       "      <th>1</th>\n",
       "      <td>0.0</td>\n",
       "      <td>0.0</td>\n",
       "      <td>0.0</td>\n",
       "      <td>0.0</td>\n",
       "      <td>0.0</td>\n",
       "      <td>0.0</td>\n",
       "      <td>0.0</td>\n",
       "      <td>0.0</td>\n",
       "      <td>0.0</td>\n",
       "      <td>0.0</td>\n",
       "      <td>...</td>\n",
       "      <td>0.0</td>\n",
       "      <td>0.0</td>\n",
       "      <td>0.0</td>\n",
       "      <td>0.0</td>\n",
       "      <td>0.0</td>\n",
       "      <td>0.0</td>\n",
       "      <td>0.0</td>\n",
       "      <td>0.0</td>\n",
       "      <td>0.0</td>\n",
       "      <td>0.005051</td>\n",
       "    </tr>\n",
       "    <tr>\n",
       "      <th>2</th>\n",
       "      <td>0.0</td>\n",
       "      <td>0.0</td>\n",
       "      <td>0.0</td>\n",
       "      <td>0.0</td>\n",
       "      <td>0.0</td>\n",
       "      <td>0.0</td>\n",
       "      <td>0.0</td>\n",
       "      <td>0.0</td>\n",
       "      <td>0.0</td>\n",
       "      <td>0.0</td>\n",
       "      <td>...</td>\n",
       "      <td>0.0</td>\n",
       "      <td>0.0</td>\n",
       "      <td>0.0</td>\n",
       "      <td>0.0</td>\n",
       "      <td>0.0</td>\n",
       "      <td>0.0</td>\n",
       "      <td>0.0</td>\n",
       "      <td>0.0</td>\n",
       "      <td>0.0</td>\n",
       "      <td>0.000000</td>\n",
       "    </tr>\n",
       "    <tr>\n",
       "      <th>3</th>\n",
       "      <td>0.0</td>\n",
       "      <td>0.0</td>\n",
       "      <td>0.0</td>\n",
       "      <td>0.0</td>\n",
       "      <td>0.0</td>\n",
       "      <td>0.0</td>\n",
       "      <td>0.0</td>\n",
       "      <td>0.0</td>\n",
       "      <td>0.0</td>\n",
       "      <td>0.0</td>\n",
       "      <td>...</td>\n",
       "      <td>0.0</td>\n",
       "      <td>0.0</td>\n",
       "      <td>0.0</td>\n",
       "      <td>0.0</td>\n",
       "      <td>0.0</td>\n",
       "      <td>0.0</td>\n",
       "      <td>0.0</td>\n",
       "      <td>0.0</td>\n",
       "      <td>0.0</td>\n",
       "      <td>0.000000</td>\n",
       "    </tr>\n",
       "    <tr>\n",
       "      <th>4</th>\n",
       "      <td>0.0</td>\n",
       "      <td>0.0</td>\n",
       "      <td>0.0</td>\n",
       "      <td>0.0</td>\n",
       "      <td>0.0</td>\n",
       "      <td>0.0</td>\n",
       "      <td>0.0</td>\n",
       "      <td>0.0</td>\n",
       "      <td>0.0</td>\n",
       "      <td>0.0</td>\n",
       "      <td>...</td>\n",
       "      <td>0.0</td>\n",
       "      <td>0.0</td>\n",
       "      <td>0.0</td>\n",
       "      <td>0.0</td>\n",
       "      <td>0.0</td>\n",
       "      <td>0.0</td>\n",
       "      <td>0.0</td>\n",
       "      <td>0.0</td>\n",
       "      <td>0.0</td>\n",
       "      <td>0.000000</td>\n",
       "    </tr>\n",
       "  </tbody>\n",
       "</table>\n",
       "<p>5 rows × 14182 columns</p>\n",
       "</div>"
      ],
      "text/plain": [
       "   aback  abacus  abandon  abandoned  abandonment  abate  abatement  abba  \\\n",
       "0    0.0     0.0      0.0        0.0          0.0    0.0        0.0   0.0   \n",
       "1    0.0     0.0      0.0        0.0          0.0    0.0        0.0   0.0   \n",
       "2    0.0     0.0      0.0        0.0          0.0    0.0        0.0   0.0   \n",
       "3    0.0     0.0      0.0        0.0          0.0    0.0        0.0   0.0   \n",
       "4    0.0     0.0      0.0        0.0          0.0    0.0        0.0   0.0   \n",
       "\n",
       "   abbot  abbreviate    ...     zephyr  zeppelin  zest  zip  zodiac  zone  \\\n",
       "0    0.0         0.0    ...        0.0       0.0   0.0  0.0     0.0   0.0   \n",
       "1    0.0         0.0    ...        0.0       0.0   0.0  0.0     0.0   0.0   \n",
       "2    0.0         0.0    ...        0.0       0.0   0.0  0.0     0.0   0.0   \n",
       "3    0.0         0.0    ...        0.0       0.0   0.0  0.0     0.0   0.0   \n",
       "4    0.0         0.0    ...        0.0       0.0   0.0  0.0     0.0   0.0   \n",
       "\n",
       "   zoo  zoological  zoology      zoom  \n",
       "0  0.0         0.0      0.0  0.000000  \n",
       "1  0.0         0.0      0.0  0.005051  \n",
       "2  0.0         0.0      0.0  0.000000  \n",
       "3  0.0         0.0      0.0  0.000000  \n",
       "4  0.0         0.0      0.0  0.000000  \n",
       "\n",
       "[5 rows x 14182 columns]"
      ]
     },
     "execution_count": 66,
     "metadata": {},
     "output_type": "execute_result"
    }
   ],
   "source": [
    "from sklearn.feature_extraction.text import TfidfVectorizer\n",
    "\n",
    "# I only want you to look for words in the emotional lexicon\n",
    "# because we don't know what's up with the other words\n",
    "vec = TfidfVectorizer(vocabulary=emolex_df.word,\n",
    "                      use_idf=False, \n",
    "                      norm='l1') # ELL - ONE\n",
    "matrix = vec.fit_transform(df['content'])\n",
    "vocab = vec.get_feature_names()\n",
    "wordcount_df = pd.DataFrame(matrix.toarray(), columns=vocab)\n",
    "wordcount_df.head()"
   ]
  },
  {
   "cell_type": "code",
   "execution_count": 67,
   "metadata": {
    "scrolled": true
   },
   "outputs": [
    {
     "data": {
      "text/html": [
       "<div>\n",
       "<style>\n",
       "    .dataframe thead tr:only-child th {\n",
       "        text-align: right;\n",
       "    }\n",
       "\n",
       "    .dataframe thead th {\n",
       "        text-align: left;\n",
       "    }\n",
       "\n",
       "    .dataframe tbody tr th {\n",
       "        vertical-align: top;\n",
       "    }\n",
       "</style>\n",
       "<table border=\"1\" class=\"dataframe\">\n",
       "  <thead>\n",
       "    <tr style=\"text-align: right;\">\n",
       "      <th>emotion</th>\n",
       "      <th>word</th>\n",
       "      <th>anger</th>\n",
       "      <th>anticipation</th>\n",
       "      <th>disgust</th>\n",
       "      <th>fear</th>\n",
       "      <th>joy</th>\n",
       "      <th>negative</th>\n",
       "      <th>positive</th>\n",
       "      <th>sadness</th>\n",
       "      <th>surprise</th>\n",
       "      <th>trust</th>\n",
       "    </tr>\n",
       "  </thead>\n",
       "  <tbody>\n",
       "    <tr>\n",
       "      <th>0</th>\n",
       "      <td>aback</td>\n",
       "      <td>0</td>\n",
       "      <td>0</td>\n",
       "      <td>0</td>\n",
       "      <td>0</td>\n",
       "      <td>0</td>\n",
       "      <td>0</td>\n",
       "      <td>0</td>\n",
       "      <td>0</td>\n",
       "      <td>0</td>\n",
       "      <td>0</td>\n",
       "    </tr>\n",
       "    <tr>\n",
       "      <th>1</th>\n",
       "      <td>abacus</td>\n",
       "      <td>0</td>\n",
       "      <td>0</td>\n",
       "      <td>0</td>\n",
       "      <td>0</td>\n",
       "      <td>0</td>\n",
       "      <td>0</td>\n",
       "      <td>0</td>\n",
       "      <td>0</td>\n",
       "      <td>0</td>\n",
       "      <td>1</td>\n",
       "    </tr>\n",
       "    <tr>\n",
       "      <th>2</th>\n",
       "      <td>abandon</td>\n",
       "      <td>0</td>\n",
       "      <td>0</td>\n",
       "      <td>0</td>\n",
       "      <td>1</td>\n",
       "      <td>0</td>\n",
       "      <td>1</td>\n",
       "      <td>0</td>\n",
       "      <td>1</td>\n",
       "      <td>0</td>\n",
       "      <td>0</td>\n",
       "    </tr>\n",
       "    <tr>\n",
       "      <th>3</th>\n",
       "      <td>abandoned</td>\n",
       "      <td>1</td>\n",
       "      <td>0</td>\n",
       "      <td>0</td>\n",
       "      <td>1</td>\n",
       "      <td>0</td>\n",
       "      <td>1</td>\n",
       "      <td>0</td>\n",
       "      <td>1</td>\n",
       "      <td>0</td>\n",
       "      <td>0</td>\n",
       "    </tr>\n",
       "    <tr>\n",
       "      <th>4</th>\n",
       "      <td>abandonment</td>\n",
       "      <td>1</td>\n",
       "      <td>0</td>\n",
       "      <td>0</td>\n",
       "      <td>1</td>\n",
       "      <td>0</td>\n",
       "      <td>1</td>\n",
       "      <td>0</td>\n",
       "      <td>1</td>\n",
       "      <td>1</td>\n",
       "      <td>0</td>\n",
       "    </tr>\n",
       "  </tbody>\n",
       "</table>\n",
       "</div>"
      ],
      "text/plain": [
       "emotion         word  anger  anticipation  disgust  fear  joy  negative  \\\n",
       "0              aback      0             0        0     0    0         0   \n",
       "1             abacus      0             0        0     0    0         0   \n",
       "2            abandon      0             0        0     1    0         1   \n",
       "3          abandoned      1             0        0     1    0         1   \n",
       "4        abandonment      1             0        0     1    0         1   \n",
       "\n",
       "emotion  positive  sadness  surprise  trust  \n",
       "0               0        0         0      0  \n",
       "1               0        0         0      1  \n",
       "2               0        1         0      0  \n",
       "3               0        1         0      0  \n",
       "4               0        1         1      0  "
      ]
     },
     "execution_count": 67,
     "metadata": {},
     "output_type": "execute_result"
    }
   ],
   "source": [
    "emolex_df.head()"
   ]
  },
  {
   "cell_type": "code",
   "execution_count": 68,
   "metadata": {},
   "outputs": [
    {
     "data": {
      "text/html": [
       "<div>\n",
       "<style>\n",
       "    .dataframe thead tr:only-child th {\n",
       "        text-align: right;\n",
       "    }\n",
       "\n",
       "    .dataframe thead th {\n",
       "        text-align: left;\n",
       "    }\n",
       "\n",
       "    .dataframe tbody tr th {\n",
       "        vertical-align: top;\n",
       "    }\n",
       "</style>\n",
       "<table border=\"1\" class=\"dataframe\">\n",
       "  <thead>\n",
       "    <tr style=\"text-align: right;\">\n",
       "      <th>emotion</th>\n",
       "      <th>word</th>\n",
       "      <th>anger</th>\n",
       "      <th>anticipation</th>\n",
       "      <th>disgust</th>\n",
       "      <th>fear</th>\n",
       "      <th>joy</th>\n",
       "      <th>negative</th>\n",
       "      <th>positive</th>\n",
       "      <th>sadness</th>\n",
       "      <th>surprise</th>\n",
       "      <th>trust</th>\n",
       "    </tr>\n",
       "  </thead>\n",
       "  <tbody>\n",
       "    <tr>\n",
       "      <th>3</th>\n",
       "      <td>abandoned</td>\n",
       "      <td>1</td>\n",
       "      <td>0</td>\n",
       "      <td>0</td>\n",
       "      <td>1</td>\n",
       "      <td>0</td>\n",
       "      <td>1</td>\n",
       "      <td>0</td>\n",
       "      <td>1</td>\n",
       "      <td>0</td>\n",
       "      <td>0</td>\n",
       "    </tr>\n",
       "    <tr>\n",
       "      <th>4</th>\n",
       "      <td>abandonment</td>\n",
       "      <td>1</td>\n",
       "      <td>0</td>\n",
       "      <td>0</td>\n",
       "      <td>1</td>\n",
       "      <td>0</td>\n",
       "      <td>1</td>\n",
       "      <td>0</td>\n",
       "      <td>1</td>\n",
       "      <td>1</td>\n",
       "      <td>0</td>\n",
       "    </tr>\n",
       "    <tr>\n",
       "      <th>17</th>\n",
       "      <td>abhor</td>\n",
       "      <td>1</td>\n",
       "      <td>0</td>\n",
       "      <td>1</td>\n",
       "      <td>1</td>\n",
       "      <td>0</td>\n",
       "      <td>1</td>\n",
       "      <td>0</td>\n",
       "      <td>0</td>\n",
       "      <td>0</td>\n",
       "      <td>0</td>\n",
       "    </tr>\n",
       "    <tr>\n",
       "      <th>18</th>\n",
       "      <td>abhorrent</td>\n",
       "      <td>1</td>\n",
       "      <td>0</td>\n",
       "      <td>1</td>\n",
       "      <td>1</td>\n",
       "      <td>0</td>\n",
       "      <td>1</td>\n",
       "      <td>0</td>\n",
       "      <td>0</td>\n",
       "      <td>0</td>\n",
       "      <td>0</td>\n",
       "    </tr>\n",
       "    <tr>\n",
       "      <th>27</th>\n",
       "      <td>abolish</td>\n",
       "      <td>1</td>\n",
       "      <td>0</td>\n",
       "      <td>0</td>\n",
       "      <td>0</td>\n",
       "      <td>0</td>\n",
       "      <td>1</td>\n",
       "      <td>0</td>\n",
       "      <td>0</td>\n",
       "      <td>0</td>\n",
       "      <td>0</td>\n",
       "    </tr>\n",
       "  </tbody>\n",
       "</table>\n",
       "</div>"
      ],
      "text/plain": [
       "emotion         word  anger  anticipation  disgust  fear  joy  negative  \\\n",
       "3          abandoned      1             0        0     1    0         1   \n",
       "4        abandonment      1             0        0     1    0         1   \n",
       "17             abhor      1             0        1     1    0         1   \n",
       "18         abhorrent      1             0        1     1    0         1   \n",
       "27           abolish      1             0        0     0    0         1   \n",
       "\n",
       "emotion  positive  sadness  surprise  trust  \n",
       "3               0        1         0      0  \n",
       "4               0        1         1      0  \n",
       "17              0        0         0      0  \n",
       "18              0        0         0      0  \n",
       "27              0        0         0      0  "
      ]
     },
     "execution_count": 68,
     "metadata": {},
     "output_type": "execute_result"
    }
   ],
   "source": [
    "emolex_df[emolex_df.anger == 1].head()"
   ]
  },
  {
   "cell_type": "markdown",
   "metadata": {},
   "source": []
  },
  {
   "cell_type": "code",
   "execution_count": 69,
   "metadata": {
    "collapsed": true
   },
   "outputs": [],
   "source": [
    "# Get your list of positive words\n",
    "\n",
    "angry_words = emolex_df[emolex_df.anger == 1]['word']\n",
    "\n",
    "positive_words = emolex_df[emolex_df.positive == 1]['word']\n",
    "\n",
    "\n",
    "# Get your list of sadness words\n",
    "sadness_words = emolex_df[emolex_df.sadness == 1]['word']\n",
    "\n",
    "\n",
    "# Get your list of surprise words\n",
    "surprise_words = emolex_df[emolex_df.surprise == 1]['word']\n",
    "\n",
    "\n",
    "# Get your list of disgust words\n",
    "disgust_words = emolex_df[emolex_df.disgust == 1]['word']\n",
    "\n",
    "\n",
    "# Get your list of anticipation words\n",
    "anticipation_words = emolex_df[emolex_df.anticipation == 1]['word']\n",
    "\n",
    "\n",
    "# Get your list of negative words\n",
    "negative_words = emolex_df[emolex_df.negative == 1]['word']\n",
    "\n",
    "\n",
    "\n",
    "# Get your list of joy words\n",
    "joy_words = emolex_df[emolex_df.joy == 1]['word']\n",
    "\n",
    "\n",
    "# Get your list of trust words\n",
    "trust_words = emolex_df[emolex_df.trust == 1]['word']\n",
    "\n",
    "\n",
    "\n",
    "# Get your list of fear words\n",
    "fear_words = emolex_df[emolex_df.fear == 1]['word']\n",
    "\n",
    "\n"
   ]
  },
  {
   "cell_type": "code",
   "execution_count": 70,
   "metadata": {},
   "outputs": [
    {
     "data": {
      "text/html": [
       "<div>\n",
       "<style>\n",
       "    .dataframe thead tr:only-child th {\n",
       "        text-align: right;\n",
       "    }\n",
       "\n",
       "    .dataframe thead th {\n",
       "        text-align: left;\n",
       "    }\n",
       "\n",
       "    .dataframe tbody tr th {\n",
       "        vertical-align: top;\n",
       "    }\n",
       "</style>\n",
       "<table border=\"1\" class=\"dataframe\">\n",
       "  <thead>\n",
       "    <tr style=\"text-align: right;\">\n",
       "      <th></th>\n",
       "      <th>link</th>\n",
       "      <th>min_read</th>\n",
       "      <th>filename</th>\n",
       "      <th>author</th>\n",
       "      <th>publications</th>\n",
       "      <th>description</th>\n",
       "      <th>date</th>\n",
       "      <th>followers</th>\n",
       "      <th>claps</th>\n",
       "      <th>people_clapped</th>\n",
       "      <th>high_text</th>\n",
       "      <th>images</th>\n",
       "      <th>content</th>\n",
       "      <th>tag</th>\n",
       "    </tr>\n",
       "  </thead>\n",
       "  <tbody>\n",
       "    <tr>\n",
       "      <th>0</th>\n",
       "      <td>https://www.google.com/url?q=https://m.signalv...</td>\n",
       "      <td>2</td>\n",
       "      <td>PRESS RELEASE: BASECAMP VALUATION TOPS $100 BI...</td>\n",
       "      <td>Jason Fried</td>\n",
       "      <td>Signal v. Noise</td>\n",
       "      <td>Founder &amp; CEO at Basecamp. Co-author of Gettin...</td>\n",
       "      <td>1-Dec-15</td>\n",
       "      <td>205000</td>\n",
       "      <td>6222</td>\n",
       "      <td>5328</td>\n",
       "      <td>In order to determine the valuation of compani...</td>\n",
       "      <td>Yes</td>\n",
       "      <td>Basecamp is now a billion dollar company accor...</td>\n",
       "      <td>Startup</td>\n",
       "    </tr>\n",
       "    <tr>\n",
       "      <th>1</th>\n",
       "      <td>https://medium.com/@damjancvetkovdimitrov/thes...</td>\n",
       "      <td>5</td>\n",
       "      <td>These photos are why IÕm trapped in Tokyo fore...</td>\n",
       "      <td>Damjan Cvetkov-Dimitrov</td>\n",
       "      <td>NaN</td>\n",
       "      <td>I never anticipate ants.. professionally. I al...</td>\n",
       "      <td>25-Nov-15</td>\n",
       "      <td>2200</td>\n",
       "      <td>6340</td>\n",
       "      <td>5607</td>\n",
       "      <td>NaN</td>\n",
       "      <td>Yes</td>\n",
       "      <td>Tokyo holy excrements from small undefined cre...</td>\n",
       "      <td>Sci-Fy</td>\n",
       "    </tr>\n",
       "    <tr>\n",
       "      <th>2</th>\n",
       "      <td>https://medium.com/the-year-of-the-looking-gla...</td>\n",
       "      <td>2</td>\n",
       "      <td>Average Manager vs. Great Manager</td>\n",
       "      <td>Julie Zhuo</td>\n",
       "      <td>The Year of the Looking Glass</td>\n",
       "      <td>Product design VP</td>\n",
       "      <td>11-Aug-15</td>\n",
       "      <td>179000</td>\n",
       "      <td>8700</td>\n",
       "      <td>7034</td>\n",
       "      <td>NaN</td>\n",
       "      <td>Yes</td>\n",
       "      <td>Sketches</td>\n",
       "      <td>Management</td>\n",
       "    </tr>\n",
       "  </tbody>\n",
       "</table>\n",
       "</div>"
      ],
      "text/plain": [
       "                                                link  min_read  \\\n",
       "0  https://www.google.com/url?q=https://m.signalv...         2   \n",
       "1  https://medium.com/@damjancvetkovdimitrov/thes...         5   \n",
       "2  https://medium.com/the-year-of-the-looking-gla...         2   \n",
       "\n",
       "                                            filename                   author  \\\n",
       "0  PRESS RELEASE: BASECAMP VALUATION TOPS $100 BI...              Jason Fried   \n",
       "1  These photos are why IÕm trapped in Tokyo fore...  Damjan Cvetkov-Dimitrov   \n",
       "2                  Average Manager vs. Great Manager               Julie Zhuo   \n",
       "\n",
       "                    publications  \\\n",
       "0                Signal v. Noise   \n",
       "1                            NaN   \n",
       "2  The Year of the Looking Glass   \n",
       "\n",
       "                                         description       date  followers  \\\n",
       "0  Founder & CEO at Basecamp. Co-author of Gettin...   1-Dec-15     205000   \n",
       "1  I never anticipate ants.. professionally. I al...  25-Nov-15       2200   \n",
       "2                                  Product design VP  11-Aug-15     179000   \n",
       "\n",
       "   claps  people_clapped                                          high_text  \\\n",
       "0   6222            5328  In order to determine the valuation of compani...   \n",
       "1   6340            5607                                                NaN   \n",
       "2   8700            7034                                                NaN   \n",
       "\n",
       "  images                                            content         tag  \n",
       "0    Yes  Basecamp is now a billion dollar company accor...     Startup  \n",
       "1    Yes  Tokyo holy excrements from small undefined cre...      Sci-Fy  \n",
       "2    Yes                                           Sketches  Management  "
      ]
     },
     "execution_count": 70,
     "metadata": {},
     "output_type": "execute_result"
    }
   ],
   "source": [
    "df.head(3)"
   ]
  },
  {
   "cell_type": "code",
   "execution_count": 71,
   "metadata": {
    "collapsed": true
   },
   "outputs": [],
   "source": [
    "df['anger'] = wordcount_df[angry_words].sum(axis=1)\n",
    "\n",
    "df['positivity'] = wordcount_df[positive_words].sum(axis=1)\n",
    "\n",
    "\n",
    "df['joy'] = wordcount_df[joy_words].sum(axis=1)\n",
    "\n",
    "\n",
    "df['disgust'] = wordcount_df[disgust_words].sum(axis=1)\n",
    "\n",
    "\n",
    "\n",
    "df['surprise'] = wordcount_df[surprise_words].sum(axis=1)\n",
    "\n",
    "df['trust'] = wordcount_df[trust_words].sum(axis=1)\n",
    "\n",
    "\n",
    "df['anticipation'] = wordcount_df[anticipation_words].sum(axis=1)\n",
    "\n",
    "\n",
    "df['sadness'] = wordcount_df[sadness_words].sum(axis=1)\n",
    "\n",
    "df['negative'] = wordcount_df[negative_words].sum(axis=1)\n",
    "\n",
    "df['fear'] = wordcount_df[fear_words].sum(axis=1)\n",
    "\n",
    "\n"
   ]
  },
  {
   "cell_type": "code",
   "execution_count": 72,
   "metadata": {},
   "outputs": [
    {
     "data": {
      "text/html": [
       "<div>\n",
       "<style>\n",
       "    .dataframe thead tr:only-child th {\n",
       "        text-align: right;\n",
       "    }\n",
       "\n",
       "    .dataframe thead th {\n",
       "        text-align: left;\n",
       "    }\n",
       "\n",
       "    .dataframe tbody tr th {\n",
       "        vertical-align: top;\n",
       "    }\n",
       "</style>\n",
       "<table border=\"1\" class=\"dataframe\">\n",
       "  <thead>\n",
       "    <tr style=\"text-align: right;\">\n",
       "      <th></th>\n",
       "      <th>link</th>\n",
       "      <th>min_read</th>\n",
       "      <th>filename</th>\n",
       "      <th>author</th>\n",
       "      <th>publications</th>\n",
       "      <th>description</th>\n",
       "      <th>date</th>\n",
       "      <th>followers</th>\n",
       "      <th>claps</th>\n",
       "      <th>people_clapped</th>\n",
       "      <th>...</th>\n",
       "      <th>anger</th>\n",
       "      <th>positivity</th>\n",
       "      <th>joy</th>\n",
       "      <th>disgust</th>\n",
       "      <th>surprise</th>\n",
       "      <th>trust</th>\n",
       "      <th>anticipation</th>\n",
       "      <th>sadness</th>\n",
       "      <th>negative</th>\n",
       "      <th>fear</th>\n",
       "    </tr>\n",
       "  </thead>\n",
       "  <tbody>\n",
       "    <tr>\n",
       "      <th>0</th>\n",
       "      <td>https://www.google.com/url?q=https://m.signalv...</td>\n",
       "      <td>2</td>\n",
       "      <td>PRESS RELEASE: BASECAMP VALUATION TOPS $100 BI...</td>\n",
       "      <td>Jason Fried</td>\n",
       "      <td>Signal v. Noise</td>\n",
       "      <td>Founder &amp; CEO at Basecamp. Co-author of Gettin...</td>\n",
       "      <td>1-Dec-15</td>\n",
       "      <td>205000</td>\n",
       "      <td>6222</td>\n",
       "      <td>5328</td>\n",
       "      <td>...</td>\n",
       "      <td>0.033333</td>\n",
       "      <td>0.175000</td>\n",
       "      <td>0.058333</td>\n",
       "      <td>0.000000</td>\n",
       "      <td>0.050000</td>\n",
       "      <td>0.158333</td>\n",
       "      <td>0.091667</td>\n",
       "      <td>0.016667</td>\n",
       "      <td>0.025000</td>\n",
       "      <td>0.008333</td>\n",
       "    </tr>\n",
       "    <tr>\n",
       "      <th>1</th>\n",
       "      <td>https://medium.com/@damjancvetkovdimitrov/thes...</td>\n",
       "      <td>5</td>\n",
       "      <td>These photos are why IÕm trapped in Tokyo fore...</td>\n",
       "      <td>Damjan Cvetkov-Dimitrov</td>\n",
       "      <td>NaN</td>\n",
       "      <td>I never anticipate ants.. professionally. I al...</td>\n",
       "      <td>25-Nov-15</td>\n",
       "      <td>2200</td>\n",
       "      <td>6340</td>\n",
       "      <td>5607</td>\n",
       "      <td>...</td>\n",
       "      <td>0.050505</td>\n",
       "      <td>0.252525</td>\n",
       "      <td>0.085859</td>\n",
       "      <td>0.050505</td>\n",
       "      <td>0.050505</td>\n",
       "      <td>0.131313</td>\n",
       "      <td>0.101010</td>\n",
       "      <td>0.045455</td>\n",
       "      <td>0.101010</td>\n",
       "      <td>0.050505</td>\n",
       "    </tr>\n",
       "    <tr>\n",
       "      <th>2</th>\n",
       "      <td>https://medium.com/the-year-of-the-looking-gla...</td>\n",
       "      <td>2</td>\n",
       "      <td>Average Manager vs. Great Manager</td>\n",
       "      <td>Julie Zhuo</td>\n",
       "      <td>The Year of the Looking Glass</td>\n",
       "      <td>Product design VP</td>\n",
       "      <td>11-Aug-15</td>\n",
       "      <td>179000</td>\n",
       "      <td>8700</td>\n",
       "      <td>7034</td>\n",
       "      <td>...</td>\n",
       "      <td>0.000000</td>\n",
       "      <td>0.000000</td>\n",
       "      <td>0.000000</td>\n",
       "      <td>0.000000</td>\n",
       "      <td>0.000000</td>\n",
       "      <td>0.000000</td>\n",
       "      <td>0.000000</td>\n",
       "      <td>0.000000</td>\n",
       "      <td>0.000000</td>\n",
       "      <td>0.000000</td>\n",
       "    </tr>\n",
       "    <tr>\n",
       "      <th>3</th>\n",
       "      <td>https://medium.com/interactive-mind/mobile-201...</td>\n",
       "      <td>7</td>\n",
       "      <td>Mobile:2015 UI/UX Trends</td>\n",
       "      <td>Onur Oral</td>\n",
       "      <td>Interactive Mind</td>\n",
       "      <td>Designer of things.</td>\n",
       "      <td>31-Jul-15</td>\n",
       "      <td>2300</td>\n",
       "      <td>4814</td>\n",
       "      <td>4766</td>\n",
       "      <td>...</td>\n",
       "      <td>0.007407</td>\n",
       "      <td>0.264198</td>\n",
       "      <td>0.056790</td>\n",
       "      <td>0.002469</td>\n",
       "      <td>0.012346</td>\n",
       "      <td>0.101235</td>\n",
       "      <td>0.066667</td>\n",
       "      <td>0.009877</td>\n",
       "      <td>0.039506</td>\n",
       "      <td>0.029630</td>\n",
       "    </tr>\n",
       "    <tr>\n",
       "      <th>4</th>\n",
       "      <td>https://medium.com/firm-narrative/want-a-bette...</td>\n",
       "      <td>5</td>\n",
       "      <td>Want a Better Pitch? Watch This.</td>\n",
       "      <td>Andy Raskin</td>\n",
       "      <td>NaN</td>\n",
       "      <td>Helping leaders tell strategic stories.</td>\n",
       "      <td>NaN</td>\n",
       "      <td>20000</td>\n",
       "      <td>7447</td>\n",
       "      <td>6226</td>\n",
       "      <td>...</td>\n",
       "      <td>0.037190</td>\n",
       "      <td>0.214876</td>\n",
       "      <td>0.045455</td>\n",
       "      <td>0.012397</td>\n",
       "      <td>0.012397</td>\n",
       "      <td>0.086777</td>\n",
       "      <td>0.123967</td>\n",
       "      <td>0.020661</td>\n",
       "      <td>0.086777</td>\n",
       "      <td>0.033058</td>\n",
       "    </tr>\n",
       "    <tr>\n",
       "      <th>5</th>\n",
       "      <td>https://medium.com/building-asana/work-hard-li...</td>\n",
       "      <td>5</td>\n",
       "      <td>Work Hard, Live Well</td>\n",
       "      <td>Dustin Moskovitz</td>\n",
       "      <td>Building Asana</td>\n",
       "      <td>NaN</td>\n",
       "      <td>20-Aug-15</td>\n",
       "      <td>16000</td>\n",
       "      <td>5169</td>\n",
       "      <td>4799</td>\n",
       "      <td>...</td>\n",
       "      <td>0.033582</td>\n",
       "      <td>0.235075</td>\n",
       "      <td>0.093284</td>\n",
       "      <td>0.011194</td>\n",
       "      <td>0.041045</td>\n",
       "      <td>0.130597</td>\n",
       "      <td>0.082090</td>\n",
       "      <td>0.037313</td>\n",
       "      <td>0.126866</td>\n",
       "      <td>0.029851</td>\n",
       "    </tr>\n",
       "    <tr>\n",
       "      <th>6</th>\n",
       "      <td>https://byrslf.co/you-re-only-23-stop-rushing-...</td>\n",
       "      <td>4</td>\n",
       "      <td>YouÕre only 23. Stop rushing life.</td>\n",
       "      <td>Susie Pan</td>\n",
       "      <td>Life Tips.</td>\n",
       "      <td>Life wanderer, world traveler, serial entrepre...</td>\n",
       "      <td>9-Dec-15</td>\n",
       "      <td>3100</td>\n",
       "      <td>5259</td>\n",
       "      <td>5055</td>\n",
       "      <td>...</td>\n",
       "      <td>0.030612</td>\n",
       "      <td>0.255102</td>\n",
       "      <td>0.076531</td>\n",
       "      <td>0.015306</td>\n",
       "      <td>0.040816</td>\n",
       "      <td>0.091837</td>\n",
       "      <td>0.147959</td>\n",
       "      <td>0.051020</td>\n",
       "      <td>0.102041</td>\n",
       "      <td>0.040816</td>\n",
       "    </tr>\n",
       "    <tr>\n",
       "      <th>7</th>\n",
       "      <td>https://medium.com/the-mission/never-tell-peop...</td>\n",
       "      <td>3</td>\n",
       "      <td>Never Tell People What You Do</td>\n",
       "      <td>Bruce Kasanoff</td>\n",
       "      <td>Life Learning</td>\n",
       "      <td>Social media ghostwriter. LinkedIn Influencer.</td>\n",
       "      <td>9-Sep-15</td>\n",
       "      <td>3200</td>\n",
       "      <td>4942</td>\n",
       "      <td>4784</td>\n",
       "      <td>...</td>\n",
       "      <td>0.040650</td>\n",
       "      <td>0.252033</td>\n",
       "      <td>0.048780</td>\n",
       "      <td>0.016260</td>\n",
       "      <td>0.016260</td>\n",
       "      <td>0.097561</td>\n",
       "      <td>0.081301</td>\n",
       "      <td>0.024390</td>\n",
       "      <td>0.073171</td>\n",
       "      <td>0.016260</td>\n",
       "    </tr>\n",
       "    <tr>\n",
       "      <th>8</th>\n",
       "      <td>https://medium.com/message/you-are-not-late-b3...</td>\n",
       "      <td>4</td>\n",
       "      <td>You Are Not Late</td>\n",
       "      <td>Kevin Kelly</td>\n",
       "      <td>The Message</td>\n",
       "      <td>Senior Maverick at Wired, Cool Tools maven, au...</td>\n",
       "      <td>27-Jul-14</td>\n",
       "      <td>15500</td>\n",
       "      <td>5894</td>\n",
       "      <td>5255</td>\n",
       "      <td>...</td>\n",
       "      <td>0.030675</td>\n",
       "      <td>0.177914</td>\n",
       "      <td>0.067485</td>\n",
       "      <td>0.024540</td>\n",
       "      <td>0.024540</td>\n",
       "      <td>0.073620</td>\n",
       "      <td>0.122699</td>\n",
       "      <td>0.030675</td>\n",
       "      <td>0.079755</td>\n",
       "      <td>0.036810</td>\n",
       "    </tr>\n",
       "    <tr>\n",
       "      <th>9</th>\n",
       "      <td>https://medium.com/@tommauchline/15-things-i-l...</td>\n",
       "      <td>3</td>\n",
       "      <td>15 things I learnt about Islam and British val...</td>\n",
       "      <td>Thomas Mauchline</td>\n",
       "      <td>NaN</td>\n",
       "      <td>Builds digital campaigns around people and dat...</td>\n",
       "      <td>6-Dec-15</td>\n",
       "      <td>975</td>\n",
       "      <td>5164</td>\n",
       "      <td>4569</td>\n",
       "      <td>...</td>\n",
       "      <td>0.045045</td>\n",
       "      <td>0.288288</td>\n",
       "      <td>0.153153</td>\n",
       "      <td>0.009009</td>\n",
       "      <td>0.054054</td>\n",
       "      <td>0.162162</td>\n",
       "      <td>0.153153</td>\n",
       "      <td>0.036036</td>\n",
       "      <td>0.063063</td>\n",
       "      <td>0.063063</td>\n",
       "    </tr>\n",
       "  </tbody>\n",
       "</table>\n",
       "<p>10 rows × 24 columns</p>\n",
       "</div>"
      ],
      "text/plain": [
       "                                                link  min_read  \\\n",
       "0  https://www.google.com/url?q=https://m.signalv...         2   \n",
       "1  https://medium.com/@damjancvetkovdimitrov/thes...         5   \n",
       "2  https://medium.com/the-year-of-the-looking-gla...         2   \n",
       "3  https://medium.com/interactive-mind/mobile-201...         7   \n",
       "4  https://medium.com/firm-narrative/want-a-bette...         5   \n",
       "5  https://medium.com/building-asana/work-hard-li...         5   \n",
       "6  https://byrslf.co/you-re-only-23-stop-rushing-...         4   \n",
       "7  https://medium.com/the-mission/never-tell-peop...         3   \n",
       "8  https://medium.com/message/you-are-not-late-b3...         4   \n",
       "9  https://medium.com/@tommauchline/15-things-i-l...         3   \n",
       "\n",
       "                                            filename                   author  \\\n",
       "0  PRESS RELEASE: BASECAMP VALUATION TOPS $100 BI...              Jason Fried   \n",
       "1  These photos are why IÕm trapped in Tokyo fore...  Damjan Cvetkov-Dimitrov   \n",
       "2                  Average Manager vs. Great Manager               Julie Zhuo   \n",
       "3                           Mobile:2015 UI/UX Trends                Onur Oral   \n",
       "4                   Want a Better Pitch? Watch This.              Andy Raskin   \n",
       "5                               Work Hard, Live Well         Dustin Moskovitz   \n",
       "6                 YouÕre only 23. Stop rushing life.                Susie Pan   \n",
       "7                      Never Tell People What You Do           Bruce Kasanoff   \n",
       "8                                   You Are Not Late              Kevin Kelly   \n",
       "9  15 things I learnt about Islam and British val...         Thomas Mauchline   \n",
       "\n",
       "                    publications  \\\n",
       "0                Signal v. Noise   \n",
       "1                            NaN   \n",
       "2  The Year of the Looking Glass   \n",
       "3               Interactive Mind   \n",
       "4                            NaN   \n",
       "5                 Building Asana   \n",
       "6                     Life Tips.   \n",
       "7                  Life Learning   \n",
       "8                    The Message   \n",
       "9                            NaN   \n",
       "\n",
       "                                         description       date  followers  \\\n",
       "0  Founder & CEO at Basecamp. Co-author of Gettin...   1-Dec-15     205000   \n",
       "1  I never anticipate ants.. professionally. I al...  25-Nov-15       2200   \n",
       "2                                  Product design VP  11-Aug-15     179000   \n",
       "3                                Designer of things.  31-Jul-15       2300   \n",
       "4            Helping leaders tell strategic stories.        NaN      20000   \n",
       "5                                                NaN  20-Aug-15      16000   \n",
       "6  Life wanderer, world traveler, serial entrepre...   9-Dec-15       3100   \n",
       "7     Social media ghostwriter. LinkedIn Influencer.   9-Sep-15       3200   \n",
       "8  Senior Maverick at Wired, Cool Tools maven, au...  27-Jul-14      15500   \n",
       "9  Builds digital campaigns around people and dat...   6-Dec-15        975   \n",
       "\n",
       "   claps  people_clapped    ...        anger positivity       joy   disgust  \\\n",
       "0   6222            5328    ...     0.033333   0.175000  0.058333  0.000000   \n",
       "1   6340            5607    ...     0.050505   0.252525  0.085859  0.050505   \n",
       "2   8700            7034    ...     0.000000   0.000000  0.000000  0.000000   \n",
       "3   4814            4766    ...     0.007407   0.264198  0.056790  0.002469   \n",
       "4   7447            6226    ...     0.037190   0.214876  0.045455  0.012397   \n",
       "5   5169            4799    ...     0.033582   0.235075  0.093284  0.011194   \n",
       "6   5259            5055    ...     0.030612   0.255102  0.076531  0.015306   \n",
       "7   4942            4784    ...     0.040650   0.252033  0.048780  0.016260   \n",
       "8   5894            5255    ...     0.030675   0.177914  0.067485  0.024540   \n",
       "9   5164            4569    ...     0.045045   0.288288  0.153153  0.009009   \n",
       "\n",
       "   surprise     trust  anticipation   sadness  negative      fear  \n",
       "0  0.050000  0.158333      0.091667  0.016667  0.025000  0.008333  \n",
       "1  0.050505  0.131313      0.101010  0.045455  0.101010  0.050505  \n",
       "2  0.000000  0.000000      0.000000  0.000000  0.000000  0.000000  \n",
       "3  0.012346  0.101235      0.066667  0.009877  0.039506  0.029630  \n",
       "4  0.012397  0.086777      0.123967  0.020661  0.086777  0.033058  \n",
       "5  0.041045  0.130597      0.082090  0.037313  0.126866  0.029851  \n",
       "6  0.040816  0.091837      0.147959  0.051020  0.102041  0.040816  \n",
       "7  0.016260  0.097561      0.081301  0.024390  0.073171  0.016260  \n",
       "8  0.024540  0.073620      0.122699  0.030675  0.079755  0.036810  \n",
       "9  0.054054  0.162162      0.153153  0.036036  0.063063  0.063063  \n",
       "\n",
       "[10 rows x 24 columns]"
      ]
     },
     "execution_count": 72,
     "metadata": {},
     "output_type": "execute_result"
    }
   ],
   "source": [
    "df.head(10)"
   ]
  },
  {
   "cell_type": "code",
   "execution_count": 73,
   "metadata": {},
   "outputs": [
    {
     "data": {
      "text/plain": [
       "<matplotlib.axes._subplots.AxesSubplot at 0x118477940>"
      ]
     },
     "execution_count": 73,
     "metadata": {},
     "output_type": "execute_result"
    },
    {
     "data": {
      "image/png": "[encoded data removed]",
      "text/plain": [
       "<matplotlib.figure.Figure at 0x118477978>"
      ]
     },
     "metadata": {},
     "output_type": "display_data"
    }
   ],
   "source": [
    "df.plot(x='positivity', y='anger', kind='scatter')"
   ]
  },
  {
   "cell_type": "code",
   "execution_count": 74,
   "metadata": {},
   "outputs": [
    {
     "data": {
      "text/plain": [
       "<matplotlib.axes._subplots.AxesSubplot at 0x1180324e0>"
      ]
     },
     "execution_count": 74,
     "metadata": {},
     "output_type": "execute_result"
    },
    {
     "data": {
      "image/png": "[encoded data removed]",
      "text/plain": [
       "<matplotlib.figure.Figure at 0x119bf4940>"
      ]
     },
     "metadata": {},
     "output_type": "display_data"
    }
   ],
   "source": [
    "df.plot(x='positivity', y='disgust', kind='scatter')"
   ]
  },
  {
   "cell_type": "code",
   "execution_count": 75,
   "metadata": {},
   "outputs": [
    {
     "data": {
      "text/plain": [
       "<matplotlib.axes._subplots.AxesSubplot at 0x1180a5278>"
      ]
     },
     "execution_count": 75,
     "metadata": {},
     "output_type": "execute_result"
    },
    {
     "data": {
      "image/png": "[encoded data removed]",
      "text/plain": [
       "<matplotlib.figure.Figure at 0x1180c9048>"
      ]
     },
     "metadata": {},
     "output_type": "display_data"
    }
   ],
   "source": [
    "df.plot(x='claps', y='trust', kind='barh')"
   ]
  },
  {
   "cell_type": "code",
   "execution_count": 76,
   "metadata": {},
   "outputs": [
    {
     "data": {
      "text/plain": [
       "<matplotlib.axes._subplots.AxesSubplot at 0x1181665c0>"
      ]
     },
     "execution_count": 76,
     "metadata": {},
     "output_type": "execute_result"
    },
    {
     "data": {
      "image/png": "[encoded data removed]",
      "text/plain": [
       "<matplotlib.figure.Figure at 0x118517be0>"
      ]
     },
     "metadata": {},
     "output_type": "display_data"
    }
   ],
   "source": [
    "df.groupby('author')['anger'].sum().sort_values(ascending = False).plot(kind='bar')"
   ]
  },
  {
   "cell_type": "code",
   "execution_count": 77,
   "metadata": {},
   "outputs": [
    {
     "data": {
      "text/plain": [
       "<matplotlib.axes._subplots.AxesSubplot at 0x118b67ac8>"
      ]
     },
     "execution_count": 77,
     "metadata": {},
     "output_type": "execute_result"
    },
    {
     "data": {
      "image/png": "[encoded data removed]",
      "text/plain": [
       "<matplotlib.figure.Figure at 0x118ba42e8>"
      ]
     },
     "metadata": {},
     "output_type": "display_data"
    }
   ],
   "source": [
    "df.groupby('min_read')['claps'].sum().sort_values(ascending = False).plot(kind='bar')"
   ]
  },
  {
   "cell_type": "code",
   "execution_count": 78,
   "metadata": {},
   "outputs": [
    {
     "data": {
      "text/plain": [
       "<matplotlib.axes._subplots.AxesSubplot at 0x118bdb828>"
      ]
     },
     "execution_count": 78,
     "metadata": {},
     "output_type": "execute_result"
    },
    {
     "data": {
      "image/png": "[encoded data removed]",
      "text/plain": [
       "<matplotlib.figure.Figure at 0x11817a860>"
      ]
     },
     "metadata": {},
     "output_type": "display_data"
    }
   ],
   "source": [
    "df.plot(x='positivity', y='sadness', kind='scatter')"
   ]
  },
  {
   "cell_type": "code",
   "execution_count": 79,
   "metadata": {},
   "outputs": [
    {
     "data": {
      "text/plain": [
       "<matplotlib.axes._subplots.AxesSubplot at 0x118c6cf60>"
      ]
     },
     "execution_count": 79,
     "metadata": {},
     "output_type": "execute_result"
    },
    {
     "data": {
      "image/png": "[encoded data removed]",
      "text/plain": [
       "<matplotlib.figure.Figure at 0x118d3e160>"
      ]
     },
     "metadata": {},
     "output_type": "display_data"
    }
   ],
   "source": [
    "df.groupby('claps')['followers'].sum().sort_values(ascending = False).plot(kind='bar')"
   ]
  },
  {
   "cell_type": "code",
   "execution_count": 80,
   "metadata": {},
   "outputs": [
    {
     "data": {
      "text/plain": [
       "<matplotlib.axes._subplots.AxesSubplot at 0x118c6c748>"
      ]
     },
     "execution_count": 80,
     "metadata": {},
     "output_type": "execute_result"
    },
    {
     "data": {
      "image/png": "[encoded data removed]",
      "text/plain": [
       "<matplotlib.figure.Figure at 0x118c40e48>"
      ]
     },
     "metadata": {},
     "output_type": "display_data"
    }
   ],
   "source": [
    "df.plot(x='positivity', y='trust', kind='scatter')"
   ]
  },
  {
   "cell_type": "code",
   "execution_count": 81,
   "metadata": {},
   "outputs": [
    {
     "data": {
      "text/plain": [
       "<matplotlib.axes._subplots.AxesSubplot at 0x118fa3550>"
      ]
     },
     "execution_count": 81,
     "metadata": {},
     "output_type": "execute_result"
    },
    {
     "data": {
      "image/png": "[encoded data removed]",
      "text/plain": [
       "<matplotlib.figure.Figure at 0x1193ed438>"
      ]
     },
     "metadata": {},
     "output_type": "display_data"
    }
   ],
   "source": [
    "df.plot(x='positivity', y='anticipation', kind='scatter')"
   ]
  },
  {
   "cell_type": "code",
   "execution_count": 82,
   "metadata": {},
   "outputs": [
    {
     "data": {
      "text/plain": [
       "<matplotlib.axes._subplots.AxesSubplot at 0x119422e80>"
      ]
     },
     "execution_count": 82,
     "metadata": {},
     "output_type": "execute_result"
    },
    {
     "data": {
      "image/png": "[encoded data removed]",
      "text/plain": [
       "<matplotlib.figure.Figure at 0x1194cf0f0>"
      ]
     },
     "metadata": {},
     "output_type": "display_data"
    }
   ],
   "source": [
    "df.plot(x='surprise', y='anger', kind='scatter')"
   ]
  },
  {
   "cell_type": "code",
   "execution_count": 83,
   "metadata": {},
   "outputs": [
    {
     "data": {
      "text/plain": [
       "<matplotlib.axes._subplots.AxesSubplot at 0x11951ec50>"
      ]
     },
     "execution_count": 83,
     "metadata": {},
     "output_type": "execute_result"
    },
    {
     "data": {
      "image/png": "[encoded data removed]",
      "text/plain": [
       "<matplotlib.figure.Figure at 0x1195ac320>"
      ]
     },
     "metadata": {},
     "output_type": "display_data"
    }
   ],
   "source": [
    "df.plot(x='negative', y='sadness', kind='scatter')"
   ]
  },
  {
   "cell_type": "code",
   "execution_count": 84,
   "metadata": {
    "collapsed": true
   },
   "outputs": [],
   "source": [
    "content = df['content']"
   ]
  },
  {
   "cell_type": "code",
   "execution_count": 85,
   "metadata": {},
   "outputs": [
    {
     "data": {
      "image/png": "[encoded data removed]",
      "text/plain": [
       "<matplotlib.figure.Figure at 0x11961ff98>"
      ]
     },
     "metadata": {},
     "output_type": "display_data"
    },
    {
     "data": {
      "text/plain": [
       "people       0.243612\n",
       "time         0.214548\n",
       "day          0.164036\n",
       "make         0.142118\n",
       "years        0.140311\n",
       "today        0.125181\n",
       "work         0.124925\n",
       "back         0.124893\n",
       "things       0.098151\n",
       "life         0.089442\n",
       "thing        0.088377\n",
       "company      0.080632\n",
       "world        0.078633\n",
       "morning      0.074060\n",
       "school       0.062062\n",
       "early        0.061970\n",
       "valuation    0.058333\n",
       "books        0.057811\n",
       "start        0.057447\n",
       "question     0.057097\n",
       "wrong        0.056008\n",
       "year         0.055793\n",
       "idea         0.054952\n",
       "musk         0.049452\n",
       "culture      0.048864\n",
       "learn        0.048858\n",
       "read         0.048713\n",
       "stuff        0.048362\n",
       "design       0.046914\n",
       "easy         0.045875\n",
       "move         0.045719\n",
       "talk         0.045522\n",
       "face         0.042496\n",
       "feel         0.042181\n",
       "billion      0.041667\n",
       "web          0.040320\n",
       "future       0.039393\n",
       "reading      0.038795\n",
       "means        0.038622\n",
       "business     0.038480\n",
       "kid          0.038421\n",
       "full         0.037761\n",
       "lot          0.036957\n",
       "answer       0.036776\n",
       "telling      0.035699\n",
       "attention    0.035562\n",
       "area         0.035421\n",
       "true         0.035125\n",
       "bed          0.034985\n",
       "money        0.034585\n",
       "dtype: float64"
      ]
     },
     "execution_count": 85,
     "metadata": {},
     "output_type": "execute_result"
    }
   ],
   "source": [
    "from wordcloud import WordCloud, STOPWORDS\n",
    "import matplotlib.pyplot as plt\n",
    "\n",
    "wordcloud = WordCloud(\n",
    "                         stopwords=STOPWORDS,\n",
    "                         background_color='white',\n",
    "                         width=1200,\n",
    "                         height=1000).generate(content[2])\n",
    "\n",
    "plt.imshow(wordcloud)\n",
    "plt.axis('off')\n",
    "plt.show()\n",
    " \n",
    "wordcount_df.sum().sort_values(ascending=False).head(50)"
   ]
  },
  {
   "cell_type": "code",
   "execution_count": 86,
   "metadata": {
    "collapsed": true
   },
   "outputs": [],
   "source": [
    "df.to_csv('medium_emotions.csv', index = False, encoding='utf-8')"
   ]
  },
  {
   "cell_type": "code",
   "execution_count": 87,
   "metadata": {
    "collapsed": true
   },
   "outputs": [],
   "source": [
    "#day = df['date'].str.extract('(\\d\\d\\d\\d-\\d\\d?-\\d\\d)')\n",
    "#df['day'] = df['date'].str.extract('(\\d\\d\\d\\d-\\d\\d?-\\d\\d)')\n",
    "#df.head()"
   ]
  },
  {
   "cell_type": "code",
   "execution_count": 88,
   "metadata": {
    "collapsed": true
   },
   "outputs": [],
   "source": [
    "#df.groupby('day')['anger'].sum().sort_values(ascending = False).plot(kind='bar')"
   ]
  },
  {
   "cell_type": "code",
   "execution_count": 89,
   "metadata": {
    "collapsed": true
   },
   "outputs": [],
   "source": [
    "#df.groupby('day')['positivity'].sum().sort_values(ascending = False).plot(kind='bar')"
   ]
  },
  {
   "cell_type": "code",
   "execution_count": null,
   "metadata": {
    "collapsed": true
   },
   "outputs": [],
   "source": []
  }
 ],
 "metadata": {
  "kernelspec": {
   "display_name": "Python 3",
   "language": "python",
   "name": "python3"
  },
  "language_info": {
   "codemirror_mode": {
    "name": "ipython",
    "version": 3
   },
   "file_extension": ".py",
   "mimetype": "text/x-python",
   "name": "python",
   "nbconvert_exporter": "python",
   "pygments_lexer": "ipython3",
   "version": "3.6.2"
  }
 },
 "nbformat": 4,
 "nbformat_minor": 2
}
